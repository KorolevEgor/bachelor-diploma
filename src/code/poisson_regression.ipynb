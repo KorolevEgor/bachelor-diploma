{
 "cells": [
  {
   "cell_type": "code",
   "execution_count": 1,
   "id": "8756efca",
   "metadata": {},
   "outputs": [],
   "source": [
    "import numpy as np\n",
    "import pandas as pd\n",
    "import math\n",
    "\n",
    "import matplotlib.pyplot as plt\n",
    "import seaborn as sns\n",
    "%matplotlib inline\n",
    "\n",
    "from sklearn.preprocessing import normalize\n",
    "from scipy.sparse import dia_matrix\n",
    "from scipy.optimize import minimize, shgo, dual_annealing, differential_evolution, basinhopping\n",
    "import scipy\n",
    "\n",
    "from sklearn.model_selection import train_test_split"
   ]
  },
  {
   "cell_type": "code",
   "execution_count": 2,
   "id": "5d1d4f05",
   "metadata": {},
   "outputs": [],
   "source": [
    "path = \"../data/data.xlsx\"\n",
    "df = pd.read_excel(path)\n",
    "df.Дата = df.Дата.astype('datetime64[ns]')"
   ]
  },
  {
   "cell_type": "code",
   "execution_count": 3,
   "id": "50080e5c",
   "metadata": {},
   "outputs": [],
   "source": [
    "features = [\n",
    "    ['intercept', 'Кривизна'],\n",
    "    ['intercept', 'Кривизна', 'Профиль пути'],\n",
    "    ['intercept', 'Кривизна', 'n_feature_1'], # Профиль пути * Макс. число вагонов в сходе\n",
    "    ['intercept', 'Кривизна', 'n_feature_2'], # 1 - Макс. число вагонов в сходе / Общее количество вагонов\n",
    "    ['intercept', 'Кривизна', 'n_feature_3'], # Скорость * Загрузка\n",
    "    ['intercept', 'Кривизна', 'Профиль пути', 'n_feature_3'],\n",
    "    ['intercept', 'Кривизна', 'Профиль пути', 'n_feature_3', 'n_feature_2'],\n",
    "    ['intercept', 'Профиль пути', 'n_feature_3', 'n_feature_2']\n",
    "]\n",
    "\n",
    "target = ['Количество сшедших вагонов']"
   ]
  },
  {
   "cell_type": "code",
   "execution_count": 58,
   "id": "f5e8c9c7",
   "metadata": {},
   "outputs": [],
   "source": [
    "class MLM():\n",
    "    \n",
    "    neg_log_likelihood_fun = 0\n",
    "    const_log_likelihood_fun = 0\n",
    "    \n",
    "    predict_fun = None\n",
    "    \n",
    "    optimization_method = shgo\n",
    "    borders = 10 * [(-1000, 1000)]\n",
    "    \n",
    "    df = None\n",
    "    features = None\n",
    "    target = None\n",
    "    \n",
    "    count_of_param_fun = 0\n",
    "    \n",
    "    def __init__(self, df, features, target,\n",
    "                 neg_log_likelihood_fun, const_log_likelihood_fun,\n",
    "                optimization_method, borders, predict_fun,\n",
    "                count_of_param_fun):\n",
    "        self.neg_log_likelihood_fun = neg_log_likelihood_fun\n",
    "        self.const_log_likelihood_fun = const_log_likelihood_fun\n",
    "        self.optimization_method = optimization_method\n",
    "        self.borders = borders\n",
    "        self.predict_fun = predict_fun\n",
    "        self.count_of_param_fun = count_of_param_fun\n",
    "        self.features = features\n",
    "        self.target = target\n",
    "        self.df = df\n",
    "    \n",
    "    def const_log_likehood_zero(y):\n",
    "        return 0\n",
    "    \n",
    "    def calc_aic_c(self, logL, feature) -> float:\n",
    "        logL = float(logL[2:-2])\n",
    "        k = len(feature)\n",
    "        n = len(self.y)\n",
    "        return round(2 * (k - logL) + 2 * k * (k + 1) / (n - k - 1), 2)\n",
    "    \n",
    "    def to_fixed2(self, a, is_tex_output=False):\n",
    "        result_str = ''\n",
    "        for i in a:\n",
    "            if is_tex_output:\n",
    "                result_str += ('$%.2f$, ' % i)\n",
    "            else:\n",
    "                result_str += ('%.2f, ' % i)\n",
    "        result_str = '[' + result_str[:-2] + ']'\n",
    "        return result_str\n",
    "    \n",
    "    def fit_all(self, get_tex_code=False):\n",
    "        num_of_feature = 0\n",
    "        for feature in self.features:\n",
    "            num_of_feature += 1\n",
    "\n",
    "            data = self.df[feature + self.target].dropna()\n",
    "            self.y = data[self.target]\n",
    "            self.y = np.array(self.y)\n",
    "            self.X = data.drop(self.target, axis=1)\n",
    "            self.X = np.matrix(self.X)\n",
    "            \n",
    "            thetas_for_tex = ''\n",
    "            thetas_without_round_for_tex = ''\n",
    "            AIC_c_for_tex = ''\n",
    "            \n",
    "            print('Признаковое пространство', num_of_feature, ':', feature)\n",
    "            print('Мощность выборки n = ', len(self.y))\n",
    "            \n",
    "            for param_index in range(self.count_of_param_fun):\n",
    "                \n",
    "                count_of_attempt = 0\n",
    "                result = self.optimization_method(self.neg_log_likelihood_fun,\n",
    "                        self.borders[:len(feature)],\n",
    "                        args=(self.X, self.y, param_index))\n",
    "                \n",
    "                while math.isnan(result['fun']) and count_of_attempt < 15:\n",
    "                    result = self.optimization_method(self.neg_log_likelihood_fun,\n",
    "                            self.borders[:len(feature)],\n",
    "                            args=(self.X, self.y, param_index))\n",
    "                    count_of_attempt += 1\n",
    "                \n",
    "                if get_tex_code:\n",
    "                    thetas_for_tex += self.to_fixed2(result['x'], is_tex_output=True) + ' & '\n",
    "                    thetas_without_round_for_tex += str(result['x']) + ' & '\n",
    "                    AIC_c_for_tex += '$' + str(self.calc_aic_c(self.to_fixed2([-result['fun'] + self.const_log_likelihood_fun(self.y)], is_tex_output=True), feature)) + '$' + ' & '\n",
    "                \n",
    "                print('success: ', result['success'])\n",
    "                print('ln L: ', self.to_fixed2([-result['fun'] + self.const_log_likelihood_fun(self.y)]))\n",
    "                print('AIC_c', self.calc_aic_c(self.to_fixed2([-result['fun'] + self.const_log_likelihood_fun(self.y)]), feature))\n",
    "                print('thetas: ', self.to_fixed2(result['x']))\n",
    "                print()\n",
    "            \n",
    "            if get_tex_code:\n",
    "                print('latex code:')\n",
    "                print('thetas_for_tex:', thetas_for_tex[:-2], '\\n')\n",
    "                print('thetas_for_tex:', thetas_without_round_for_tex[:-2], '\\n')\n",
    "                print('AIC_c_for_tex: ', AIC_c_for_tex[:-2], '\\n')\n",
    "            print('########################################################')\n",
    "            \n",
    "    \n",
    "    # TO DO\n",
    "    def predict(self, x_pred):\n",
    "        return 0"
   ]
  },
  {
   "cell_type": "code",
   "execution_count": 4,
   "id": "8d4cee2a",
   "metadata": {},
   "outputs": [],
   "source": [
    "lambdas = [\n",
    "    (lambda t: np.exp(t)),\n",
    "    (lambda t: np.exp(-t * t)),\n",
    "    (lambda t: 1 + np.sqrt(np.abs(25 - (t-5)*(t-5)))),\n",
    "    (lambda t: (t-1)*(t-1)),\n",
    "    (lambda t: 1 / (1 + t*t)),\n",
    "    (lambda t: t * (np.pi / 2.0 - np.arctan(-t)) + 1),\n",
    "    (lambda t: np.log(1 + t*t) + 1),\n",
    "]\n",
    "\n",
    "log_lambdas = [\n",
    "    (lambda t: t),\n",
    "    (lambda t: -t * t),\n",
    "    (lambda t: np.log(1 + np.sqrt(np.abs(25 - (t-5)*(t-5))))),\n",
    "    (lambda t: np.log((t-1)*(t-1))),\n",
    "    (lambda t: -np.log(1 + t*t)),\n",
    "    (lambda t: np.log(t * (np.pi / 2.0 - np.arctan(-t)) + 1)),\n",
    "    (lambda t: np.log(np.log(1 + t*t) + 1)),\n",
    "]\n",
    "\n",
    "def poisson_neg_log_likelihood_function(theta, X, y, lambda_index):\n",
    "    result = 0\n",
    "    for i in range(len(y)):\n",
    "        dot_prod = float(np.dot(X[i], theta))\n",
    "        lambda_value = lambdas[lambda_index](dot_prod)\n",
    "        log_lambda_value = log_lambdas[lambda_index](dot_prod)\n",
    "        result += (float(y[i]) - 1) * log_lambda_value - lambda_value\n",
    "    return -result\n",
    "\n",
    "def poisson_get_log_likelihood_const(y):\n",
    "        result = 0\n",
    "        for i in range(len(y)):\n",
    "            result += -np.log(scipy.special.factorial(y[i]))\n",
    "        return result"
   ]
  },
  {
   "cell_type": "code",
   "execution_count": 59,
   "id": "0ce8a98e",
   "metadata": {
    "scrolled": true
   },
   "outputs": [
    {
     "name": "stdout",
     "output_type": "stream",
     "text": [
      "Признаковое пространство 1 : ['intercept', 'Кривизна']\n",
      "Мощность выборки n =  46\n",
      "success:  True\n",
      "ln L:  [-256.27]\n",
      "AIC_c -508.12\n",
      "thetas:  [1.18, -271.63]\n",
      "\n",
      "success:  True\n",
      "ln L:  [-306.66]\n",
      "AIC_c -608.92\n",
      "thetas:  [-0.00, 0.00]\n",
      "\n",
      "success:  True\n",
      "ln L:  [-306.66]\n",
      "AIC_c -608.92\n",
      "thetas:  [0.00, 0.00]\n",
      "\n",
      "success:  True\n",
      "ln L:  [-256.14]\n",
      "AIC_c -507.92\n",
      "thetas:  [-0.80, 208.15]\n",
      "\n",
      "success:  True\n",
      "ln L:  [-306.66]\n",
      "AIC_c -608.92\n",
      "thetas:  [-0.00, 0.00]\n",
      "\n"
     ]
    },
    {
     "name": "stderr",
     "output_type": "stream",
     "text": [
      "<ipython-input-4-3655a5e8d18a>:2: RuntimeWarning: overflow encountered in exp\n",
      "  (lambda t: np.exp(t)),\n"
     ]
    },
    {
     "name": "stdout",
     "output_type": "stream",
     "text": [
      "success:  True\n",
      "ln L:  [-256.28]\n",
      "AIC_c -508.12\n",
      "thetas:  [0.95, -236.29]\n",
      "\n",
      "success:  True\n",
      "ln L:  [-256.66]\n",
      "AIC_c -508.92\n",
      "thetas:  [2.66, -549.73]\n",
      "\n",
      "latex code:\n",
      "thetas_for_tex: [$1.18$, $-271.63$] & [$-0.00$, $0.00$] & [$0.00$, $0.00$] & [$-0.80$, $208.15$] & [$-0.00$, $0.00$] & [$0.95$, $-236.29$] & [$2.66$, $-549.73$]  \n",
      "\n",
      "thetas_for_tex: [   1.17663977 -271.62551142] & [-2.73694797e-11  0.00000000e+00] & [0. 0.] & [ -0.79854568 208.15177928] & [-2.73694797e-11  0.00000000e+00] & [   0.94835424 -236.2893394 ] & [   2.66181393 -549.7289914 ]  \n",
      "\n",
      "AIC_c_for_tex:  $516.82$ & $617.6$ & $617.6$ & $516.56$ & $617.6$ & $516.84$ & $517.6$  \n",
      "\n",
      "########################################################\n",
      "Признаковое пространство 2 : ['intercept', 'Кривизна', 'Профиль пути']\n",
      "Мощность выборки n =  41\n"
     ]
    },
    {
     "name": "stderr",
     "output_type": "stream",
     "text": [
      "<ipython-input-4-3655a5e8d18a>:2: RuntimeWarning: overflow encountered in exp\n",
      "  (lambda t: np.exp(t)),\n"
     ]
    },
    {
     "name": "stdout",
     "output_type": "stream",
     "text": [
      "success:  True\n",
      "ln L:  [-242.56]\n",
      "AIC_c -478.35\n",
      "thetas:  [1.17, -160.85, 39.30]\n",
      "\n",
      "success:  True\n",
      "ln L:  [-299.87]\n",
      "AIC_c -592.95\n",
      "thetas:  [-0.00, 0.00, 0.00]\n",
      "\n",
      "success:  True\n",
      "ln L:  [-239.22]\n",
      "AIC_c -471.75\n",
      "thetas:  [0.56, -114.67, 35.95]\n",
      "\n",
      "success:  True\n",
      "ln L:  [-239.73]\n",
      "AIC_c -472.75\n",
      "thetas:  [-0.83, 212.70, -56.93]\n",
      "\n",
      "success:  True\n",
      "ln L:  [-299.87]\n",
      "AIC_c -592.95\n",
      "thetas:  [-0.00, 0.00, 0.00]\n",
      "\n",
      "success:  True\n",
      "ln L:  [-238.18]\n",
      "AIC_c -469.55\n",
      "thetas:  [1.05, -281.75, 83.44]\n",
      "\n",
      "success:  True\n",
      "ln L:  [-235.22]\n",
      "AIC_c -463.75\n",
      "thetas:  [3.28, -486.77, 276.36]\n",
      "\n",
      "latex code:\n",
      "thetas_for_tex: [$1.17$, $-160.85$, $39.30$] & [$-0.00$, $0.00$, $0.00$] & [$0.56$, $-114.67$, $35.95$] & [$-0.83$, $212.70$, $-56.93$] & [$-0.00$, $0.00$, $0.00$] & [$1.05$, $-281.75$, $83.44$] & [$3.28$, $-486.77$, $276.36$]  \n",
      "\n",
      "thetas_for_tex: [   1.17290277 -160.84988797   39.29626948] & [-2.73694797e-11  0.00000000e+00  0.00000000e+00] & [   0.55589183 -114.66800927   35.94991553] & [ -0.83371448 212.69978342 -56.92629995] & [-2.73694797e-11  0.00000000e+00  0.00000000e+00] & [   1.05191539 -281.7481183    83.4432927 ] & [   3.28364783 -486.769352    276.36319505]  \n",
      "\n",
      "AIC_c_for_tex:  $491.77$ & $606.39$ & $485.09$ & $486.11$ & $606.39$ & $483.01$ & $477.09$  \n",
      "\n",
      "########################################################\n",
      "Признаковое пространство 3 : ['intercept', 'Кривизна', 'n_feature_1']\n",
      "Мощность выборки n =  37\n",
      "success:  True\n",
      "ln L:  [-229.64]\n",
      "AIC_c -452.47\n",
      "thetas:  [1.29, -201.69, 0.82]\n",
      "\n",
      "success:  True\n",
      "ln L:  [-295.87]\n",
      "AIC_c -584.87\n",
      "thetas:  [-0.00, 0.00, 0.00]\n",
      "\n"
     ]
    },
    {
     "name": "stderr",
     "output_type": "stream",
     "text": [
      "<ipython-input-4-3655a5e8d18a>:2: RuntimeWarning: overflow encountered in exp\n",
      "  (lambda t: np.exp(t)),\n"
     ]
    },
    {
     "name": "stdout",
     "output_type": "stream",
     "text": [
      "success:  True\n",
      "ln L:  [-225.45]\n",
      "AIC_c -444.07\n",
      "thetas:  [0.78, -67.92, 1.64]\n",
      "\n",
      "success:  True\n",
      "ln L:  [-226.12]\n",
      "AIC_c -445.47\n",
      "thetas:  [-0.94, 280.75, -1.44]\n",
      "\n",
      "success:  True\n",
      "ln L:  [-295.87]\n",
      "AIC_c -584.87\n",
      "thetas:  [-0.00, 0.00, 0.00]\n",
      "\n",
      "success:  True\n",
      "ln L:  [-223.19]\n",
      "AIC_c -439.47\n",
      "thetas:  [1.21, -426.41, 2.49]\n",
      "\n",
      "success:  True\n",
      "ln L:  [-221.11]\n",
      "AIC_c -435.47\n",
      "thetas:  [3.91, -1000.00, 7.26]\n",
      "\n",
      "latex code:\n",
      "thetas_for_tex: [$1.29$, $-201.69$, $0.82$] & [$-0.00$, $0.00$, $0.00$] & [$0.78$, $-67.92$, $1.64$] & [$-0.94$, $280.75$, $-1.44$] & [$-0.00$, $0.00$, $0.00$] & [$1.21$, $-426.41$, $2.49$] & [$3.91$, $-1000.00$, $7.26$]  \n",
      "\n",
      "thetas_for_tex: [   1.29025113 -201.69043337    0.81851112] & [-2.73694797e-11  0.00000000e+00  0.00000000e+00] & [  0.77769163 -67.92105618   1.64367355] & [ -0.93871601 280.7532128   -1.43886028] & [-2.73694797e-11  0.00000000e+00  0.00000000e+00] & [   1.21245813 -426.40820177    2.49397347] & [    3.90693649 -1000.             7.26267851]  \n",
      "\n",
      "AIC_c_for_tex:  $466.01$ & $598.47$ & $457.63$ & $458.97$ & $598.47$ & $453.11$ & $448.95$  \n",
      "\n",
      "########################################################\n",
      "Признаковое пространство 4 : ['intercept', 'Кривизна', 'n_feature_2']\n",
      "Мощность выборки n =  42\n"
     ]
    },
    {
     "name": "stderr",
     "output_type": "stream",
     "text": [
      "<ipython-input-4-3655a5e8d18a>:2: RuntimeWarning: overflow encountered in exp\n",
      "  (lambda t: np.exp(t)),\n"
     ]
    },
    {
     "name": "stdout",
     "output_type": "stream",
     "text": [
      "success:  True\n",
      "ln L:  [-221.91]\n",
      "AIC_c -437.17\n",
      "thetas:  [2.11, -180.43, -2.36]\n",
      "\n",
      "success:  True\n",
      "ln L:  [-302.66]\n",
      "AIC_c -598.57\n",
      "thetas:  [-0.00, 0.00, 0.00]\n",
      "\n",
      "success:  True\n",
      "ln L:  [-233.75]\n",
      "AIC_c -460.77\n",
      "thetas:  [1.98, 3.85, -2.09]\n",
      "\n",
      "success:  True\n",
      "ln L:  [-219.09]\n",
      "AIC_c -431.37\n",
      "thetas:  [-1.70, 207.42, 1.96]\n",
      "\n",
      "success:  True\n",
      "ln L:  [-302.66]\n",
      "AIC_c -598.57\n",
      "thetas:  [-0.00, 0.00, 0.00]\n",
      "\n",
      "success:  True\n",
      "ln L:  [-219.07]\n",
      "AIC_c -431.37\n",
      "thetas:  [2.19, -302.64, -2.53]\n",
      "\n",
      "success:  True\n",
      "ln L:  [-227.13]\n",
      "AIC_c -447.57\n",
      "thetas:  [5.94, -74.64, -6.39]\n",
      "\n",
      "latex code:\n",
      "thetas_for_tex: [$2.11$, $-180.43$, $-2.36$] & [$-0.00$, $0.00$, $0.00$] & [$1.98$, $3.85$, $-2.09$] & [$-1.70$, $207.42$, $1.96$] & [$-0.00$, $0.00$, $0.00$] & [$2.19$, $-302.64$, $-2.53$] & [$5.94$, $-74.64$, $-6.39$]  \n",
      "\n",
      "thetas_for_tex: [   2.11226998 -180.42660675   -2.35720559] & [-2.73694797e-11  0.00000000e+00  0.00000000e+00] & [ 1.97968628  3.85076761 -2.09191408] & [ -1.70185865 207.41800967   1.96377424] & [-2.73694797e-11  0.00000000e+00  0.00000000e+00] & [   2.18799638 -302.64037064   -2.53289487] & [  5.94128598 -74.63569603  -6.3852027 ]  \n",
      "\n",
      "AIC_c_for_tex:  $450.45$ & $611.95$ & $474.13$ & $444.81$ & $611.95$ & $444.77$ & $460.89$  \n",
      "\n",
      "########################################################\n",
      "Признаковое пространство 5 : ['intercept', 'Кривизна', 'n_feature_3']\n",
      "Мощность выборки n =  42\n",
      "success:  True\n",
      "ln L:  [-225.92]\n",
      "AIC_c -445.17\n",
      "thetas:  [-0.09, -237.26, 0.03]\n",
      "\n",
      "success:  True\n",
      "ln L:  [-289.86]\n",
      "AIC_c -572.97\n",
      "thetas:  [-0.00, 0.00, -0.00]\n",
      "\n",
      "success:  True\n",
      "ln L:  [-289.86]\n",
      "AIC_c -572.97\n",
      "thetas:  [0.00, 0.00, 0.00]\n",
      "\n"
     ]
    },
    {
     "name": "stderr",
     "output_type": "stream",
     "text": [
      "<ipython-input-4-3655a5e8d18a>:2: RuntimeWarning: overflow encountered in exp\n",
      "  (lambda t: np.exp(t)),\n"
     ]
    },
    {
     "name": "stdout",
     "output_type": "stream",
     "text": [
      "success:  True\n",
      "ln L:  [-220.59]\n",
      "AIC_c -434.37\n",
      "thetas:  [0.44, 216.06, -0.03]\n",
      "\n",
      "success:  True\n",
      "ln L:  [-289.86]\n",
      "AIC_c -572.97\n",
      "thetas:  [-0.00, 0.00, -0.00]\n",
      "\n",
      "success:  True\n",
      "ln L:  [-219.83]\n",
      "AIC_c -432.97\n",
      "thetas:  [-0.64, -262.77, 0.03]\n",
      "\n",
      "success:  True\n",
      "ln L:  [-223.90]\n",
      "AIC_c -441.17\n",
      "thetas:  [-0.39, -431.93, 0.07]\n",
      "\n",
      "latex code:\n",
      "thetas_for_tex: [$-0.09$, $-237.26$, $0.03$] & [$-0.00$, $0.00$, $-0.00$] & [$0.00$, $0.00$, $0.00$] & [$0.44$, $216.06$, $-0.03$] & [$-0.00$, $0.00$, $-0.00$] & [$-0.64$, $-262.77$, $0.03$] & [$-0.39$, $-431.93$, $0.07$]  \n",
      "\n",
      "thetas_for_tex: [-9.41003548e-02 -2.37256635e+02  2.51877927e-02] & [-7.05096425e-14  0.00000000e+00 -2.00576430e-10] & [0. 0. 0.] & [ 4.41690147e-01  2.16055743e+02 -2.59179453e-02] & [-7.04984062e-14  0.00000000e+00 -2.00567966e-10] & [-6.42678813e-01 -2.62766296e+02  3.45308377e-02] & [-3.92361274e-01 -4.31932763e+02  7.33414901e-02]  \n",
      "\n",
      "AIC_c_for_tex:  $458.47$ & $586.35$ & $586.35$ & $447.81$ & $586.35$ & $446.29$ & $454.43$  \n",
      "\n",
      "########################################################\n",
      "Признаковое пространство 6 : ['intercept', 'Кривизна', 'Профиль пути', 'n_feature_3']\n",
      "Мощность выборки n =  37\n",
      "success:  True\n",
      "ln L:  [-213.12]\n",
      "AIC_c -416.95\n",
      "thetas:  [-0.15, -148.04, 53.13, 0.03]\n",
      "\n",
      "success:  True\n",
      "ln L:  [-283.07]\n",
      "AIC_c -556.75\n",
      "thetas:  [-0.00, 0.00, 0.00, -0.00]\n",
      "\n"
     ]
    },
    {
     "name": "stderr",
     "output_type": "stream",
     "text": [
      "<ipython-input-4-3655a5e8d18a>:2: RuntimeWarning: overflow encountered in exp\n",
      "  (lambda t: np.exp(t)),\n"
     ]
    },
    {
     "name": "stdout",
     "output_type": "stream",
     "text": [
      "success:  True\n",
      "ln L:  [-247.44]\n",
      "AIC_c -485.55\n",
      "thetas:  [9.24, 3.94, 3.55, -0.11]\n",
      "\n",
      "success:  True\n",
      "ln L:  [-209.23]\n",
      "AIC_c -409.15\n",
      "thetas:  [0.29, 244.79, -52.47, -0.02]\n",
      "\n",
      "success:  True\n",
      "ln L:  [-283.07]\n",
      "AIC_c -556.75\n",
      "thetas:  [-0.00, 0.00, 0.00, -0.00]\n",
      "\n",
      "success:  True\n",
      "ln L:  [-208.26]\n",
      "AIC_c -407.15\n",
      "thetas:  [-0.47, -328.73, 75.88, 0.03]\n",
      "\n",
      "success:  True\n",
      "ln L:  [-213.65]\n",
      "AIC_c -417.95\n",
      "thetas:  [-0.31, -633.78, 7.19, 0.08]\n",
      "\n",
      "latex code:\n",
      "thetas_for_tex: [$-0.15$, $-148.04$, $53.13$, $0.03$] & [$-0.00$, $0.00$, $0.00$, $-0.00$] & [$9.24$, $3.94$, $3.55$, $-0.11$] & [$0.29$, $244.79$, $-52.47$, $-0.02$] & [$-0.00$, $0.00$, $0.00$, $-0.00$] & [$-0.47$, $-328.73$, $75.88$, $0.03$] & [$-0.31$, $-633.78$, $7.19$, $0.08$]  \n",
      "\n",
      "thetas_for_tex: [-1.48804956e-01 -1.48036460e+02  5.31272408e+01  2.66695834e-02] & [-7.09391652e-14  0.00000000e+00  0.00000000e+00 -2.01254412e-10] & [ 9.24393014  3.94187122  3.55281838 -0.11333238] & [ 2.93385652e-01  2.44792516e+02 -5.24674773e+01 -2.44099749e-02] & [-7.07090063e-14  0.00000000e+00  0.00000000e+00 -2.00601451e-10] & [-4.66102812e-01 -3.28733843e+02  7.58821258e+01  3.27854652e-02] & [-3.13712684e-01 -6.33780848e+02  7.18874621e+00  8.24897058e-02]  \n",
      "\n",
      "AIC_c_for_tex:  $435.49$ & $575.39$ & $504.13$ & $427.71$ & $575.39$ & $425.77$ & $436.55$  \n",
      "\n",
      "########################################################\n",
      "Признаковое пространство 7 : ['intercept', 'Кривизна', 'Профиль пути', 'n_feature_3', 'n_feature_2']\n",
      "Мощность выборки n =  35\n",
      "success:  True\n",
      "ln L:  [-194.03]\n",
      "AIC_c -375.93\n",
      "thetas:  [0.92, -105.35, 34.34, 0.02, -2.24]\n",
      "\n",
      "success:  True\n"
     ]
    },
    {
     "name": "stderr",
     "output_type": "stream",
     "text": [
      "<ipython-input-4-3655a5e8d18a>:2: RuntimeWarning: overflow encountered in exp\n",
      "  (lambda t: np.exp(t)),\n"
     ]
    },
    {
     "name": "stdout",
     "output_type": "stream",
     "text": [
      "ln L:  [-281.07]\n",
      "AIC_c -549.93\n",
      "thetas:  [-0.00, 0.00, 0.00, -0.00, 0.00]\n",
      "\n",
      "success:  True\n",
      "ln L:  [-281.07]\n",
      "AIC_c -549.93\n",
      "thetas:  [0.00, 0.00, 0.00, 0.00, 0.00]\n",
      "\n",
      "success:  True\n",
      "ln L:  [-194.73]\n",
      "AIC_c -377.33\n",
      "thetas:  [-0.98, 242.26, -22.62, -0.01, 1.73]\n",
      "\n",
      "success:  True\n",
      "ln L:  [-281.07]\n",
      "AIC_c -549.93\n",
      "thetas:  [-0.00, 0.00, 0.00, -0.00, 0.00]\n",
      "\n",
      "success:  True\n",
      "ln L:  [-194.63]\n",
      "AIC_c -377.13\n",
      "thetas:  [1.28, -373.54, 41.10, 0.02, -2.34]\n",
      "\n",
      "success:  True\n",
      "ln L:  [-198.76]\n",
      "AIC_c -385.33\n",
      "thetas:  [2.69, -57.95, 235.44, 0.08, -8.15]\n",
      "\n",
      "latex code:\n",
      "thetas_for_tex: [$0.92$, $-105.35$, $34.34$, $0.02$, $-2.24$] & [$-0.00$, $0.00$, $0.00$, $-0.00$, $0.00$] & [$0.00$, $0.00$, $0.00$, $0.00$, $0.00$] & [$-0.98$, $242.26$, $-22.62$, $-0.01$, $1.73$] & [$-0.00$, $0.00$, $0.00$, $-0.00$, $0.00$] & [$1.28$, $-373.54$, $41.10$, $0.02$, $-2.34$] & [$2.69$, $-57.95$, $235.44$, $0.08$, $-8.15$]  \n",
      "\n",
      "thetas_for_tex: [ 9.20623915e-01 -1.05351925e+02  3.43369654e+01  2.12149958e-02\n",
      " -2.23822805e+00] & [-6.99064063e-14  0.00000000e+00  0.00000000e+00 -2.01144033e-10\n",
      "  0.00000000e+00] & [0. 0. 0. 0. 0.] & [-9.82509027e-01  2.42261067e+02 -2.26206766e+01 -1.29605723e-02\n",
      "  1.73184940e+00] & [-6.99656641e-14  0.00000000e+00  0.00000000e+00 -2.01314537e-10\n",
      "  0.00000000e+00] & [ 1.28025446e+00 -3.73540857e+02  4.11038783e+01  1.68901913e-02\n",
      " -2.34402261e+00] & [ 2.68870152e+00 -5.79469826e+01  2.35444378e+02  7.88650092e-02\n",
      " -8.15418807e+00]  \n",
      "\n",
      "AIC_c_for_tex:  $400.13$ & $574.21$ & $574.21$ & $401.53$ & $574.21$ & $401.33$ & $409.59$  \n",
      "\n",
      "########################################################\n",
      "Признаковое пространство 8 : ['intercept', 'Профиль пути', 'n_feature_3', 'n_feature_2']\n",
      "Мощность выборки n =  37\n",
      "success:  True\n",
      "ln L:  [-200.70]\n",
      "AIC_c -392.15\n",
      "thetas:  [0.55, 39.28, 0.03, -2.14]\n",
      "\n",
      "success:  True\n",
      "ln L:  [-283.07]\n",
      "AIC_c -556.75\n",
      "thetas:  [-0.00, 0.00, -0.00, 0.00]\n",
      "\n",
      "success:  True\n",
      "ln L:  [-283.07]\n",
      "AIC_c -556.75\n",
      "thetas:  [0.00, 0.00, 0.00, 0.00]\n",
      "\n",
      "success:  True\n",
      "ln L:  [-205.16]\n"
     ]
    },
    {
     "name": "stderr",
     "output_type": "stream",
     "text": [
      "<ipython-input-4-3655a5e8d18a>:2: RuntimeWarning: overflow encountered in exp\n",
      "  (lambda t: np.exp(t)),\n"
     ]
    },
    {
     "name": "stdout",
     "output_type": "stream",
     "text": [
      "AIC_c -400.95\n",
      "thetas:  [-0.49, -15.96, -0.02, 1.44]\n",
      "\n",
      "success:  True\n",
      "ln L:  [-283.07]\n",
      "AIC_c -556.75\n",
      "thetas:  [-0.00, 0.00, -0.00, 0.00]\n",
      "\n",
      "success:  True\n",
      "ln L:  [-205.19]\n",
      "AIC_c -400.95\n",
      "thetas:  [0.31, 26.23, 0.03, -1.97]\n",
      "\n",
      "success:  True\n",
      "ln L:  [-204.94]\n",
      "AIC_c -400.55\n",
      "thetas:  [1.91, 281.49, 0.08, -6.90]\n",
      "\n",
      "latex code:\n",
      "thetas_for_tex: [$0.55$, $39.28$, $0.03$, $-2.14$] & [$-0.00$, $0.00$, $-0.00$, $0.00$] & [$0.00$, $0.00$, $0.00$, $0.00$] & [$-0.49$, $-15.96$, $-0.02$, $1.44$] & [$-0.00$, $0.00$, $-0.00$, $0.00$] & [$0.31$, $26.23$, $0.03$, $-1.97$] & [$1.91$, $281.49$, $0.08$, $-6.90$]  \n",
      "\n",
      "thetas_for_tex: [ 5.51509058e-01  3.92803528e+01  2.54177579e-02 -2.13831493e+00] & [-7.07737609e-14  0.00000000e+00 -2.01492897e-10  0.00000000e+00] & [0. 0. 0. 0.] & [ -0.49176887 -15.96251758  -0.01698865   1.43914189] & [-7.04401905e-14  0.00000000e+00 -2.00519742e-10  0.00000000e+00] & [ 0.31226161 26.22997155  0.02698085 -1.96985398] & [ 1.90837587e+00  2.81493009e+02  7.62296768e-02 -6.89972218e+00]  \n",
      "\n",
      "AIC_c_for_tex:  $410.65$ & $575.39$ & $575.39$ & $419.57$ & $575.39$ & $419.63$ & $419.13$  \n",
      "\n",
      "########################################################\n"
     ]
    }
   ],
   "source": [
    "poisson_regressor = MLM(df, features, target,\n",
    "                        poisson_neg_log_likelihood_function,\n",
    "                        poisson_get_log_likelihood_const,\n",
    "                        shgo, 10*[(-1000,1000)], None, len(lambdas))\n",
    "poisson_regressor.fit_all(get_tex_code=True)"
   ]
  },
  {
   "cell_type": "code",
   "execution_count": 5,
   "id": "e7eecd25",
   "metadata": {},
   "outputs": [],
   "source": [
    "lambdas_2 = [\n",
    "    (lambda t: np.exp(t)),\n",
    "    (lambda t: np.exp(-t * t)),\n",
    "    (lambda t: 1 / (1 + np.exp(-t))),\n",
    "    #(lambda t: (t-1)*(t-1)),\n",
    "    (lambda t: 1 / (1 + t*t)),\n",
    "    (lambda t: t * (np.pi / 2.0 - np.arctan(-t)) + 1),\n",
    "    #(lambda t: np.log(1 + t*t) + 1),\n",
    "]\n",
    "\n",
    "log_lambdas_2 = [\n",
    "    (lambda t: t),\n",
    "    (lambda t: -t * t),\n",
    "    (lambda t: -np.log(1 + np.exp(-t))),\n",
    "    #(lambda t: np.log((t-1)*(t-1))),\n",
    "    (lambda t: -np.log(1 + t*t)),\n",
    "    (lambda t: np.log(t * (np.pi / 2.0 - np.arctan(-t)) + 1)),\n",
    "    #(lambda t: np.log(np.log(1 + t*t) + 1)),\n",
    "]\n",
    "\n",
    "log_one_minus_lambdas_2 = [\n",
    "    (lambda t: np.log(1 - np.exp(t))),\n",
    "    (lambda t: np.log(1 - np.exp(-t * t))),\n",
    "    (lambda t: -np.log(1 + np.exp(t))),\n",
    "    #(lambda t: np.log(1 - (t-1)*(t-1))),\n",
    "    (lambda t: np.log(t*t) - np.log(1 + t*t)),\n",
    "    (lambda t: np.log(-t * (np.pi / 2.0 - np.arctan(-t)))),\n",
    "    #(lambda t: np.log(-np.log(1 + t*t))),\n",
    "]\n",
    "\n",
    "def geometry_neg_log_likelihood_function(theta, X, y, lambda_index):\n",
    "    result = 0\n",
    "    for i in range(len(y)):\n",
    "        dot_prod = float(np.dot(X[i], theta))\n",
    "        lambda_value = lambdas_2[lambda_index](dot_prod)\n",
    "        log_lambda_value = log_lambdas_2[lambda_index](dot_prod)\n",
    "        result += (float(y[i]) - 1) * log_one_minus_lambdas_2[lambda_index](dot_prod) + log_lambda_value\n",
    "    return -result\n",
    "\n",
    "def geometry_get_log_likelihood_const(y):\n",
    "        return 0"
   ]
  },
  {
   "cell_type": "code",
   "execution_count": 60,
   "id": "26a2ba5b",
   "metadata": {
    "scrolled": true
   },
   "outputs": [
    {
     "name": "stdout",
     "output_type": "stream",
     "text": [
      "Признаковое пространство 1 : ['intercept', 'Кривизна']\n",
      "Мощность выборки n =  46\n"
     ]
    },
    {
     "name": "stderr",
     "output_type": "stream",
     "text": [
      "<ipython-input-5-49b39c550010>:2: RuntimeWarning: overflow encountered in exp\n",
      "  (lambda t: np.exp(t)),\n",
      "<ipython-input-5-49b39c550010>:22: RuntimeWarning: overflow encountered in exp\n",
      "  (lambda t: np.log(1 - np.exp(t))),\n",
      "<ipython-input-5-49b39c550010>:22: RuntimeWarning: invalid value encountered in log\n",
      "  (lambda t: np.log(1 - np.exp(t))),\n"
     ]
    },
    {
     "name": "stdout",
     "output_type": "stream",
     "text": [
      "success:  True\n",
      "ln L:  [-98.07]\n",
      "AIC_c -191.72\n",
      "thetas:  [-1.46, 215.57]\n",
      "\n",
      "success:  True\n",
      "ln L:  [-98.19]\n",
      "AIC_c -191.92\n",
      "thetas:  [1.20, -90.37]\n",
      "\n"
     ]
    },
    {
     "name": "stderr",
     "output_type": "stream",
     "text": [
      "<ipython-input-5-49b39c550010>:24: RuntimeWarning: overflow encountered in exp\n",
      "  (lambda t: -np.log(1 + np.exp(t))),\n",
      "<ipython-input-10-1c2d512b1abc>:7: RuntimeWarning: invalid value encountered in double_scalars\n",
      "  result += (float(y[i]) - 1) * log_one_minus_lambdas_2[lambda_index](dot_prod) + log_lambda_value\n",
      "<ipython-input-5-49b39c550010>:4: RuntimeWarning: overflow encountered in exp\n",
      "  (lambda t: 1 / (1 + np.exp(-t))),\n",
      "<ipython-input-5-49b39c550010>:14: RuntimeWarning: overflow encountered in exp\n",
      "  (lambda t: -np.log(1 + np.exp(-t))),\n"
     ]
    },
    {
     "name": "stdout",
     "output_type": "stream",
     "text": [
      "success:  True\n",
      "ln L:  [-98.21]\n",
      "AIC_c -192.12\n",
      "thetas:  [-1.18, 278.32]\n",
      "\n",
      "success:  True\n",
      "ln L:  [-98.04]\n",
      "AIC_c -191.72\n",
      "thetas:  [1.82, -233.20]\n",
      "\n"
     ]
    },
    {
     "name": "stderr",
     "output_type": "stream",
     "text": [
      "<ipython-input-5-49b39c550010>:27: RuntimeWarning: invalid value encountered in log\n",
      "  (lambda t: np.log(-t * (np.pi / 2.0 - np.arctan(-t)))),\n"
     ]
    },
    {
     "name": "stdout",
     "output_type": "stream",
     "text": [
      "success:  True\n",
      "ln L:  [-98.01]\n",
      "AIC_c -191.72\n",
      "thetas:  [-0.95, 150.96]\n",
      "\n",
      "latex code:\n",
      "thetas_for_tex: [$-1.46$, $215.57$] & [$1.20$, $-90.37$] & [$-1.18$, $278.32$] & [$1.82$, $-233.20$] & [$-0.95$, $150.96$]  \n",
      "\n",
      "thetas_for_tex: [ -1.46367689 215.57381142] & [  1.2048528  -90.37099016] & [ -1.18172668 278.31575664] & [   1.82227954 -233.20306534] & [ -0.94746065 150.9559513 ]  \n",
      "\n",
      "AIC_c_for_tex:  $200.42$ & $200.66$ & $200.7$ & $200.36$ & $200.3$  \n",
      "\n",
      "########################################################\n",
      "Признаковое пространство 2 : ['intercept', 'Кривизна', 'Профиль пути']\n",
      "Мощность выборки n =  41\n"
     ]
    },
    {
     "name": "stderr",
     "output_type": "stream",
     "text": [
      "<ipython-input-5-49b39c550010>:22: RuntimeWarning: invalid value encountered in log\n",
      "  (lambda t: np.log(1 - np.exp(t))),\n",
      "<ipython-input-5-49b39c550010>:2: RuntimeWarning: overflow encountered in exp\n",
      "  (lambda t: np.exp(t)),\n",
      "<ipython-input-5-49b39c550010>:22: RuntimeWarning: overflow encountered in exp\n",
      "  (lambda t: np.log(1 - np.exp(t))),\n"
     ]
    },
    {
     "name": "stdout",
     "output_type": "stream",
     "text": [
      "success:  True\n",
      "ln L:  [-87.76]\n",
      "AIC_c -168.75\n",
      "thetas:  [-1.57, 304.90, -70.79]\n",
      "\n",
      "success:  True\n",
      "ln L:  [-89.77]\n",
      "AIC_c -172.75\n",
      "thetas:  [1.14, -853.89, -106.71]\n",
      "\n"
     ]
    },
    {
     "name": "stderr",
     "output_type": "stream",
     "text": [
      "<ipython-input-5-49b39c550010>:24: RuntimeWarning: overflow encountered in exp\n",
      "  (lambda t: -np.log(1 + np.exp(t))),\n",
      "<ipython-input-10-1c2d512b1abc>:7: RuntimeWarning: invalid value encountered in double_scalars\n",
      "  result += (float(y[i]) - 1) * log_one_minus_lambdas_2[lambda_index](dot_prod) + log_lambda_value\n",
      "<ipython-input-5-49b39c550010>:4: RuntimeWarning: overflow encountered in exp\n",
      "  (lambda t: 1 / (1 + np.exp(-t))),\n",
      "<ipython-input-5-49b39c550010>:14: RuntimeWarning: overflow encountered in exp\n",
      "  (lambda t: -np.log(1 + np.exp(-t))),\n"
     ]
    },
    {
     "name": "stdout",
     "output_type": "stream",
     "text": [
      "success:  True\n",
      "ln L:  [-89.44]\n",
      "AIC_c -172.15\n",
      "thetas:  [-1.27, 388.34, -103.97]\n",
      "\n",
      "success:  True\n",
      "ln L:  [-85.97]\n",
      "AIC_c -165.15\n",
      "thetas:  [-1.97, 392.24, -123.78]\n",
      "\n"
     ]
    },
    {
     "name": "stderr",
     "output_type": "stream",
     "text": [
      "<ipython-input-5-49b39c550010>:27: RuntimeWarning: invalid value encountered in log\n",
      "  (lambda t: np.log(-t * (np.pi / 2.0 - np.arctan(-t)))),\n"
     ]
    },
    {
     "name": "stdout",
     "output_type": "stream",
     "text": [
      "success:  True\n",
      "ln L:  [-86.84]\n",
      "AIC_c -166.95\n",
      "thetas:  [-1.00, 150.21, -64.07]\n",
      "\n",
      "latex code:\n",
      "thetas_for_tex: [$-1.57$, $304.90$, $-70.79$] & [$1.14$, $-853.89$, $-106.71$] & [$-1.27$, $388.34$, $-103.97$] & [$-1.97$, $392.24$, $-123.78$] & [$-1.00$, $150.21$, $-64.07$]  \n",
      "\n",
      "thetas_for_tex: [ -1.56845441 304.89733692 -70.7857265 ] & [   1.14136258 -853.88984804 -106.71031578] & [  -1.26547992  388.34307309 -103.9703625 ] & [  -1.96850579  392.2355368  -123.77739934] & [ -1.00191448 150.21492207 -64.07450946]  \n",
      "\n",
      "AIC_c_for_tex:  $182.17$ & $186.19$ & $185.53$ & $178.59$ & $180.33$  \n",
      "\n",
      "########################################################\n",
      "Признаковое пространство 3 : ['intercept', 'Кривизна', 'n_feature_1']\n",
      "Мощность выборки n =  37\n"
     ]
    },
    {
     "name": "stderr",
     "output_type": "stream",
     "text": [
      "<ipython-input-5-49b39c550010>:22: RuntimeWarning: invalid value encountered in log\n",
      "  (lambda t: np.log(1 - np.exp(t))),\n",
      "<ipython-input-5-49b39c550010>:2: RuntimeWarning: overflow encountered in exp\n",
      "  (lambda t: np.exp(t)),\n",
      "<ipython-input-5-49b39c550010>:22: RuntimeWarning: overflow encountered in exp\n",
      "  (lambda t: np.log(1 - np.exp(t))),\n"
     ]
    },
    {
     "name": "stdout",
     "output_type": "stream",
     "text": [
      "success:  True\n",
      "ln L:  [-81.85]\n",
      "AIC_c -156.87\n",
      "thetas:  [-1.52, 238.17, -2.18]\n",
      "\n",
      "success:  True\n",
      "ln L:  [-83.23]\n",
      "AIC_c -159.67\n",
      "thetas:  [-1.26, 171.59, -0.90]\n",
      "\n"
     ]
    },
    {
     "name": "stderr",
     "output_type": "stream",
     "text": [
      "<ipython-input-5-49b39c550010>:4: RuntimeWarning: overflow encountered in exp\n",
      "  (lambda t: 1 / (1 + np.exp(-t))),\n",
      "<ipython-input-5-49b39c550010>:14: RuntimeWarning: overflow encountered in exp\n",
      "  (lambda t: -np.log(1 + np.exp(-t))),\n",
      "<ipython-input-5-49b39c550010>:24: RuntimeWarning: overflow encountered in exp\n",
      "  (lambda t: -np.log(1 + np.exp(t))),\n",
      "<ipython-input-10-1c2d512b1abc>:7: RuntimeWarning: invalid value encountered in double_scalars\n",
      "  result += (float(y[i]) - 1) * log_one_minus_lambdas_2[lambda_index](dot_prod) + log_lambda_value\n"
     ]
    },
    {
     "name": "stdout",
     "output_type": "stream",
     "text": [
      "success:  True\n",
      "ln L:  [-83.08]\n",
      "AIC_c -159.27\n",
      "thetas:  [-1.40, 560.11, -3.07]\n",
      "\n",
      "success:  True\n",
      "ln L:  [-79.25]\n",
      "AIC_c -151.67\n",
      "thetas:  [2.05, -523.11, 3.38]\n",
      "\n"
     ]
    },
    {
     "name": "stderr",
     "output_type": "stream",
     "text": [
      "<ipython-input-5-49b39c550010>:27: RuntimeWarning: invalid value encountered in log\n",
      "  (lambda t: np.log(-t * (np.pi / 2.0 - np.arctan(-t)))),\n"
     ]
    },
    {
     "name": "stdout",
     "output_type": "stream",
     "text": [
      "success:  True\n",
      "ln L:  [-81.13]\n",
      "AIC_c -155.47\n",
      "thetas:  [-1.03, 169.06, -1.39]\n",
      "\n",
      "latex code:\n",
      "thetas_for_tex: [$-1.52$, $238.17$, $-2.18$] & [$-1.26$, $171.59$, $-0.90$] & [$-1.40$, $560.11$, $-3.07$] & [$2.05$, $-523.11$, $3.38$] & [$-1.03$, $169.06$, $-1.39$]  \n",
      "\n",
      "thetas_for_tex: [ -1.52338523 238.1657043   -2.1750088 ] & [ -1.26251266 171.59375885  -0.90337296] & [ -1.3975798  560.11325691  -3.06533145] & [   2.05279644 -523.11033781    3.37882235] & [ -1.0302548  169.06111203  -1.39097194]  \n",
      "\n",
      "AIC_c_for_tex:  $170.43$ & $173.19$ & $172.89$ & $165.23$ & $168.99$  \n",
      "\n",
      "########################################################\n",
      "Признаковое пространство 4 : ['intercept', 'Кривизна', 'n_feature_2']\n",
      "Мощность выборки n =  42\n"
     ]
    },
    {
     "name": "stderr",
     "output_type": "stream",
     "text": [
      "<ipython-input-5-49b39c550010>:22: RuntimeWarning: invalid value encountered in log\n",
      "  (lambda t: np.log(1 - np.exp(t))),\n",
      "<ipython-input-5-49b39c550010>:2: RuntimeWarning: overflow encountered in exp\n",
      "  (lambda t: np.exp(t)),\n",
      "<ipython-input-5-49b39c550010>:22: RuntimeWarning: overflow encountered in exp\n",
      "  (lambda t: np.log(1 - np.exp(t))),\n"
     ]
    },
    {
     "name": "stdout",
     "output_type": "stream",
     "text": [
      "success:  True\n",
      "ln L:  [-84.85]\n",
      "AIC_c -162.97\n",
      "thetas:  [-2.10, 111.27, 1.61]\n",
      "\n",
      "success:  True\n",
      "ln L:  [-84.85]\n",
      "AIC_c -162.97\n",
      "thetas:  [-1.57, 111.19, 0.86]\n",
      "\n"
     ]
    },
    {
     "name": "stderr",
     "output_type": "stream",
     "text": [
      "<ipython-input-5-49b39c550010>:4: RuntimeWarning: overflow encountered in exp\n",
      "  (lambda t: 1 / (1 + np.exp(-t))),\n",
      "<ipython-input-5-49b39c550010>:14: RuntimeWarning: overflow encountered in exp\n",
      "  (lambda t: -np.log(1 + np.exp(-t))),\n",
      "<ipython-input-5-49b39c550010>:24: RuntimeWarning: overflow encountered in exp\n",
      "  (lambda t: -np.log(1 + np.exp(t))),\n",
      "<ipython-input-10-1c2d512b1abc>:7: RuntimeWarning: invalid value encountered in double_scalars\n",
      "  result += (float(y[i]) - 1) * log_one_minus_lambdas_2[lambda_index](dot_prod) + log_lambda_value\n",
      "C:\\ProgramData\\Anaconda3\\lib\\site-packages\\scipy\\optimize\\optimize.py:697: RuntimeWarning: invalid value encountered in double_scalars\n",
      "  df = (f(*((xk + d,) + args)) - f0) / d[k]\n"
     ]
    },
    {
     "name": "stdout",
     "output_type": "stream",
     "text": [
      "success:  True\n",
      "ln L:  [-85.02]\n",
      "AIC_c -163.37\n",
      "thetas:  [-2.35, 342.71, 2.72]\n",
      "\n",
      "success:  True\n",
      "ln L:  [-84.05]\n",
      "AIC_c -161.37\n",
      "thetas:  [2.75, -255.76, -1.99]\n",
      "\n"
     ]
    },
    {
     "name": "stderr",
     "output_type": "stream",
     "text": [
      "<ipython-input-5-49b39c550010>:27: RuntimeWarning: invalid value encountered in log\n",
      "  (lambda t: np.log(-t * (np.pi / 2.0 - np.arctan(-t)))),\n"
     ]
    },
    {
     "name": "stdout",
     "output_type": "stream",
     "text": [
      "success:  True\n",
      "ln L:  [-85.11]\n",
      "AIC_c -163.57\n",
      "thetas:  [-1.31, 81.32, 0.94]\n",
      "\n",
      "latex code:\n",
      "thetas_for_tex: [$-2.10$, $111.27$, $1.61$] & [$-1.57$, $111.19$, $0.86$] & [$-2.35$, $342.71$, $2.72$] & [$2.75$, $-255.76$, $-1.99$] & [$-1.31$, $81.32$, $0.94$]  \n",
      "\n",
      "thetas_for_tex: [ -2.09642384 111.26665444   1.61172224] & [ -1.57027402 111.18896304   0.85594361] & [ -2.3470122  342.70580125   2.71624627] & [   2.74556477 -255.75989126   -1.9864906 ] & [-1.30640664 81.32451553  0.94152861]  \n",
      "\n",
      "AIC_c_for_tex:  $176.33$ & $176.33$ & $176.67$ & $174.73$ & $176.85$  \n",
      "\n",
      "########################################################\n",
      "Признаковое пространство 5 : ['intercept', 'Кривизна', 'n_feature_3']\n",
      "Мощность выборки n =  42\n"
     ]
    },
    {
     "name": "stderr",
     "output_type": "stream",
     "text": [
      "<ipython-input-5-49b39c550010>:2: RuntimeWarning: overflow encountered in exp\n",
      "  (lambda t: np.exp(t)),\n",
      "<ipython-input-5-49b39c550010>:22: RuntimeWarning: overflow encountered in exp\n",
      "  (lambda t: np.log(1 - np.exp(t))),\n",
      "<ipython-input-5-49b39c550010>:22: RuntimeWarning: invalid value encountered in log\n",
      "  (lambda t: np.log(1 - np.exp(t))),\n"
     ]
    },
    {
     "name": "stdout",
     "output_type": "stream",
     "text": [
      "success:  True\n",
      "ln L:  [-82.23]\n",
      "AIC_c -157.77\n",
      "thetas:  [0.03, 133.64, -0.03]\n",
      "\n",
      "success:  True\n",
      "ln L:  [-83.44]\n",
      "AIC_c -160.17\n",
      "thetas:  [-0.58, 111.49, -0.01]\n",
      "\n"
     ]
    },
    {
     "name": "stderr",
     "output_type": "stream",
     "text": [
      "<ipython-input-5-49b39c550010>:24: RuntimeWarning: overflow encountered in exp\n",
      "  (lambda t: -np.log(1 + np.exp(t))),\n",
      "<ipython-input-10-1c2d512b1abc>:7: RuntimeWarning: invalid value encountered in double_scalars\n",
      "  result += (float(y[i]) - 1) * log_one_minus_lambdas_2[lambda_index](dot_prod) + log_lambda_value\n",
      "<ipython-input-5-49b39c550010>:4: RuntimeWarning: overflow encountered in exp\n",
      "  (lambda t: 1 / (1 + np.exp(-t))),\n",
      "<ipython-input-5-49b39c550010>:14: RuntimeWarning: overflow encountered in exp\n",
      "  (lambda t: -np.log(1 + np.exp(-t))),\n",
      "C:\\ProgramData\\Anaconda3\\lib\\site-packages\\scipy\\optimize\\optimize.py:697: RuntimeWarning: invalid value encountered in double_scalars\n",
      "  df = (f(*((xk + d,) + args)) - f0) / d[k]\n"
     ]
    },
    {
     "name": "stdout",
     "output_type": "stream",
     "text": [
      "success:  True\n",
      "ln L:  [-83.64]\n",
      "AIC_c -160.57\n",
      "thetas:  [0.80, 332.24, -0.04]\n",
      "\n",
      "success:  True\n",
      "ln L:  [-81.17]\n",
      "AIC_c -155.57\n",
      "thetas:  [-0.39, 279.20, -0.03]\n",
      "\n"
     ]
    },
    {
     "name": "stderr",
     "output_type": "stream",
     "text": [
      "<ipython-input-5-49b39c550010>:27: RuntimeWarning: invalid value encountered in log\n",
      "  (lambda t: np.log(-t * (np.pi / 2.0 - np.arctan(-t)))),\n"
     ]
    },
    {
     "name": "stdout",
     "output_type": "stream",
     "text": [
      "success:  True\n",
      "ln L:  [-86.51]\n",
      "AIC_c -166.37\n",
      "thetas:  [-0.77, 201.93, -0.01]\n",
      "\n",
      "latex code:\n",
      "thetas_for_tex: [$0.03$, $133.64$, $-0.03$] & [$-0.58$, $111.49$, $-0.01$] & [$0.80$, $332.24$, $-0.04$] & [$-0.39$, $279.20$, $-0.03$] & [$-0.77$, $201.93$, $-0.01$]  \n",
      "\n",
      "thetas_for_tex: [ 2.79278903e-02  1.33644195e+02 -2.91395013e-02] & [-5.75055340e-01  1.11492950e+02 -1.27017977e-02] & [ 8.04627152e-01  3.32237641e+02 -4.02658102e-02] & [-3.94765192e-01  2.79199316e+02 -3.10223333e-02] & [-7.68770008e-01  2.01934389e+02 -8.03278430e-03]  \n",
      "\n",
      "AIC_c_for_tex:  $171.09$ & $173.51$ & $173.91$ & $168.97$ & $179.65$  \n",
      "\n",
      "########################################################\n",
      "Признаковое пространство 6 : ['intercept', 'Кривизна', 'Профиль пути', 'n_feature_3']\n",
      "Мощность выборки n =  37\n"
     ]
    },
    {
     "name": "stderr",
     "output_type": "stream",
     "text": [
      "<ipython-input-5-49b39c550010>:22: RuntimeWarning: invalid value encountered in log\n",
      "  (lambda t: np.log(1 - np.exp(t))),\n",
      "<ipython-input-5-49b39c550010>:2: RuntimeWarning: overflow encountered in exp\n",
      "  (lambda t: np.exp(t)),\n",
      "<ipython-input-5-49b39c550010>:22: RuntimeWarning: overflow encountered in exp\n",
      "  (lambda t: np.log(1 - np.exp(t))),\n"
     ]
    },
    {
     "name": "stdout",
     "output_type": "stream",
     "text": [
      "success:  True\n",
      "ln L:  [-330.41]\n",
      "AIC_c -651.55\n",
      "thetas:  [-22.08, 927.97, -55.98, 0.27]\n",
      "\n",
      "success:  True\n",
      "ln L:  [-80.45]\n",
      "AIC_c -151.55\n",
      "thetas:  [0.97, -838.88, -93.59, 0.00]\n",
      "\n"
     ]
    },
    {
     "name": "stderr",
     "output_type": "stream",
     "text": [
      "<ipython-input-5-49b39c550010>:4: RuntimeWarning: overflow encountered in exp\n",
      "  (lambda t: 1 / (1 + np.exp(-t))),\n",
      "<ipython-input-5-49b39c550010>:14: RuntimeWarning: overflow encountered in exp\n",
      "  (lambda t: -np.log(1 + np.exp(-t))),\n",
      "<ipython-input-5-49b39c550010>:24: RuntimeWarning: overflow encountered in exp\n",
      "  (lambda t: -np.log(1 + np.exp(t))),\n",
      "<ipython-input-10-1c2d512b1abc>:7: RuntimeWarning: invalid value encountered in double_scalars\n",
      "  result += (float(y[i]) - 1) * log_one_minus_lambdas_2[lambda_index](dot_prod) + log_lambda_value\n",
      "C:\\ProgramData\\Anaconda3\\lib\\site-packages\\scipy\\optimize\\optimize.py:697: RuntimeWarning: invalid value encountered in double_scalars\n",
      "  df = (f(*((xk + d,) + args)) - f0) / d[k]\n"
     ]
    },
    {
     "name": "stdout",
     "output_type": "stream",
     "text": [
      "success:  True\n",
      "ln L:  [-77.52]\n",
      "AIC_c -145.75\n",
      "thetas:  [0.39, 439.55, -89.77, -0.03]\n",
      "\n",
      "success:  True\n",
      "ln L:  [-75.79]\n",
      "AIC_c -142.15\n",
      "thetas:  [0.91, -413.88, 76.69, 0.02]\n",
      "\n"
     ]
    },
    {
     "name": "stderr",
     "output_type": "stream",
     "text": [
      "<ipython-input-5-49b39c550010>:27: RuntimeWarning: invalid value encountered in log\n",
      "  (lambda t: np.log(-t * (np.pi / 2.0 - np.arctan(-t)))),\n"
     ]
    },
    {
     "name": "stdout",
     "output_type": "stream",
     "text": [
      "success:  True\n",
      "ln L:  [-77.93]\n",
      "AIC_c -146.55\n",
      "thetas:  [-0.54, 105.09, -50.14, -0.01]\n",
      "\n",
      "latex code:\n",
      "thetas_for_tex: [$-22.08$, $927.97$, $-55.98$, $0.27$] & [$0.97$, $-838.88$, $-93.59$, $0.00$] & [$0.39$, $439.55$, $-89.77$, $-0.03$] & [$0.91$, $-413.88$, $76.69$, $0.02$] & [$-0.54$, $105.09$, $-50.14$, $-0.01$]  \n",
      "\n",
      "thetas_for_tex: [-2.20848730e+01  9.27973220e+02 -5.59823941e+01  2.70646551e-01] & [ 9.67888587e-01 -8.38876708e+02 -9.35919076e+01  3.86164894e-03] & [ 3.85132759e-01  4.39548901e+02 -8.97686827e+01 -3.40513903e-02] & [ 9.13779580e-01 -4.13880797e+02  7.66886590e+01  2.25167123e-02] & [-5.40251039e-01  1.05087692e+02 -5.01362865e+01 -9.33298882e-03]  \n",
      "\n",
      "AIC_c_for_tex:  $670.07$ & $170.15$ & $164.29$ & $160.83$ & $165.11$  \n",
      "\n",
      "########################################################\n",
      "Признаковое пространство 7 : ['intercept', 'Кривизна', 'Профиль пути', 'n_feature_3', 'n_feature_2']\n",
      "Мощность выборки n =  35\n"
     ]
    },
    {
     "name": "stderr",
     "output_type": "stream",
     "text": [
      "<ipython-input-5-49b39c550010>:2: RuntimeWarning: overflow encountered in exp\n",
      "  (lambda t: np.exp(t)),\n",
      "<ipython-input-5-49b39c550010>:22: RuntimeWarning: overflow encountered in exp\n",
      "  (lambda t: np.log(1 - np.exp(t))),\n",
      "<ipython-input-5-49b39c550010>:22: RuntimeWarning: invalid value encountered in log\n",
      "  (lambda t: np.log(1 - np.exp(t))),\n"
     ]
    },
    {
     "name": "stdout",
     "output_type": "stream",
     "text": [
      "success:  True\n",
      "ln L:  [-1676.61]\n",
      "AIC_c -3341.13\n",
      "thetas:  [-122.42, 1000.00, -1000.00, 1.36, 21.71]\n",
      "\n",
      "success:  True\n",
      "ln L:  [-72.88]\n",
      "AIC_c -133.53\n",
      "thetas:  [1.29, -147.10, 15.81, 0.00, -0.72]\n",
      "\n"
     ]
    },
    {
     "name": "stderr",
     "output_type": "stream",
     "text": [
      "<ipython-input-5-49b39c550010>:4: RuntimeWarning: overflow encountered in exp\n",
      "  (lambda t: 1 / (1 + np.exp(-t))),\n",
      "<ipython-input-5-49b39c550010>:14: RuntimeWarning: overflow encountered in exp\n",
      "  (lambda t: -np.log(1 + np.exp(-t))),\n",
      "<ipython-input-5-49b39c550010>:24: RuntimeWarning: overflow encountered in exp\n",
      "  (lambda t: -np.log(1 + np.exp(t))),\n",
      "<ipython-input-10-1c2d512b1abc>:7: RuntimeWarning: invalid value encountered in double_scalars\n",
      "  result += (float(y[i]) - 1) * log_one_minus_lambdas_2[lambda_index](dot_prod) + log_lambda_value\n",
      "C:\\ProgramData\\Anaconda3\\lib\\site-packages\\scipy\\optimize\\optimize.py:697: RuntimeWarning: invalid value encountered in double_scalars\n",
      "  df = (f(*((xk + d,) + args)) - f0) / d[k]\n"
     ]
    },
    {
     "name": "stdout",
     "output_type": "stream",
     "text": [
      "success:  True\n",
      "ln L:  [-72.98]\n",
      "AIC_c -133.73\n",
      "thetas:  [-1.45, 456.03, -52.52, -0.01, 2.32]\n",
      "\n",
      "success:  True\n",
      "ln L:  [-70.86]\n",
      "AIC_c -129.53\n",
      "thetas:  [-0.68, 89.66, -113.05, -0.05, 3.31]\n",
      "\n"
     ]
    },
    {
     "name": "stderr",
     "output_type": "stream",
     "text": [
      "<ipython-input-5-49b39c550010>:27: RuntimeWarning: invalid value encountered in log\n",
      "  (lambda t: np.log(-t * (np.pi / 2.0 - np.arctan(-t)))),\n"
     ]
    },
    {
     "name": "stdout",
     "output_type": "stream",
     "text": [
      "success:  True\n",
      "ln L:  [-74.12]\n",
      "AIC_c -136.13\n",
      "thetas:  [-1.42, 49.85, -3.56, -0.00, 1.34]\n",
      "\n",
      "latex code:\n",
      "thetas_for_tex: [$-122.42$, $1000.00$, $-1000.00$, $1.36$, $21.71$] & [$1.29$, $-147.10$, $15.81$, $0.00$, $-0.72$] & [$-1.45$, $456.03$, $-52.52$, $-0.01$, $2.32$] & [$-0.68$, $89.66$, $-113.05$, $-0.05$, $3.31$] & [$-1.42$, $49.85$, $-3.56$, $-0.00$, $1.34$]  \n",
      "\n",
      "thetas_for_tex: [-122.41570626  999.99862893 -999.99748056    1.364831     21.70618354] & [ 1.29180500e+00 -1.47095265e+02  1.58065062e+01  4.58715141e-03\n",
      " -7.23286772e-01] & [-1.45198288e+00  4.56026178e+02 -5.25214734e+01 -1.49053333e-02\n",
      "  2.32182913e+00] & [-6.76518807e-01  8.96573159e+01 -1.13053977e+02 -4.55093198e-02\n",
      "  3.30826679e+00] & [-1.41744885e+00  4.98500292e+01 -3.55601770e+00 -1.06119609e-03\n",
      "  1.33585726e+00]  \n",
      "\n",
      "AIC_c_for_tex:  $3365.29$ & $157.83$ & $158.03$ & $153.79$ & $160.31$  \n",
      "\n",
      "########################################################\n",
      "Признаковое пространство 8 : ['intercept', 'Профиль пути', 'n_feature_3', 'n_feature_2']\n",
      "Мощность выборки n =  37\n"
     ]
    },
    {
     "name": "stderr",
     "output_type": "stream",
     "text": [
      "<ipython-input-5-49b39c550010>:2: RuntimeWarning: overflow encountered in exp\n",
      "  (lambda t: np.exp(t)),\n",
      "<ipython-input-5-49b39c550010>:22: RuntimeWarning: overflow encountered in exp\n",
      "  (lambda t: np.log(1 - np.exp(t))),\n",
      "<ipython-input-5-49b39c550010>:22: RuntimeWarning: invalid value encountered in log\n",
      "  (lambda t: np.log(1 - np.exp(t))),\n"
     ]
    },
    {
     "name": "stdout",
     "output_type": "stream",
     "text": [
      "success:  True\n",
      "ln L:  [-729.05]\n",
      "AIC_c -1448.75\n",
      "thetas:  [-51.83, -1000.00, 0.52, 18.16]\n",
      "\n",
      "success:  True\n",
      "ln L:  [-84.25]\n",
      "AIC_c -159.15\n",
      "thetas:  [-0.18, -49.54, -0.03, 1.64]\n",
      "\n"
     ]
    },
    {
     "name": "stderr",
     "output_type": "stream",
     "text": [
      "<ipython-input-5-49b39c550010>:24: RuntimeWarning: overflow encountered in exp\n",
      "  (lambda t: -np.log(1 + np.exp(t))),\n",
      "<ipython-input-10-1c2d512b1abc>:7: RuntimeWarning: invalid value encountered in double_scalars\n",
      "  result += (float(y[i]) - 1) * log_one_minus_lambdas_2[lambda_index](dot_prod) + log_lambda_value\n",
      "<ipython-input-5-49b39c550010>:4: RuntimeWarning: overflow encountered in exp\n",
      "  (lambda t: 1 / (1 + np.exp(-t))),\n",
      "<ipython-input-5-49b39c550010>:14: RuntimeWarning: overflow encountered in exp\n",
      "  (lambda t: -np.log(1 + np.exp(-t))),\n",
      "C:\\ProgramData\\Anaconda3\\lib\\site-packages\\scipy\\optimize\\optimize.py:697: RuntimeWarning: invalid value encountered in double_scalars\n",
      "  df = (f(*((xk + d,) + args)) - f0) / d[k]\n"
     ]
    },
    {
     "name": "stdout",
     "output_type": "stream",
     "text": [
      "success:  True\n",
      "ln L:  [-77.49]\n",
      "AIC_c -145.55\n",
      "thetas:  [-0.59, -15.12, -0.02, 1.88]\n",
      "\n",
      "success:  True\n",
      "ln L:  [-73.01]\n",
      "AIC_c -136.75\n",
      "thetas:  [0.34, 99.11, 0.05, -3.08]\n",
      "\n"
     ]
    },
    {
     "name": "stderr",
     "output_type": "stream",
     "text": [
      "<ipython-input-5-49b39c550010>:27: RuntimeWarning: invalid value encountered in log\n",
      "  (lambda t: np.log(-t * (np.pi / 2.0 - np.arctan(-t)))),\n"
     ]
    },
    {
     "name": "stdout",
     "output_type": "stream",
     "text": [
      "success:  True\n",
      "ln L:  [-171.83]\n",
      "AIC_c -334.35\n",
      "thetas:  [-19.40, -550.73, 0.17, 8.78]\n",
      "\n",
      "latex code:\n",
      "thetas_for_tex: [$-51.83$, $-1000.00$, $0.52$, $18.16$] & [$-0.18$, $-49.54$, $-0.03$, $1.64$] & [$-0.59$, $-15.12$, $-0.02$, $1.88$] & [$0.34$, $99.11$, $0.05$, $-3.08$] & [$-19.40$, $-550.73$, $0.17$, $8.78$]  \n",
      "\n",
      "thetas_for_tex: [-5.18348251e+01 -9.99999013e+02  5.19194003e-01  1.81625485e+01] & [-1.80962034e-01 -4.95376748e+01 -2.74018506e-02  1.63735997e+00] & [ -0.58750862 -15.12032606  -0.0230543    1.882114  ] & [ 3.42843809e-01  9.91125989e+01  4.87375594e-02 -3.08178969e+00] & [-1.94041628e+01 -5.50726479e+02  1.68875182e-01  8.78386225e+00]  \n",
      "\n",
      "AIC_c_for_tex:  $1467.35$ & $177.75$ & $164.23$ & $155.27$ & $352.91$  \n",
      "\n",
      "########################################################\n"
     ]
    }
   ],
   "source": [
    "geometry_regressor = MLM(df, features, target,\n",
    "                        geometry_neg_log_likelihood_function,\n",
    "                        geometry_get_log_likelihood_const,\n",
    "                        dual_annealing, 10*[(-1000,1000)], None, len(lambdas_2))\n",
    "geometry_regressor.fit_all(get_tex_code=True)"
   ]
  },
  {
   "cell_type": "code",
   "execution_count": null,
   "id": "8634cd4a",
   "metadata": {},
   "outputs": [],
   "source": []
  }
 ],
 "metadata": {
  "kernelspec": {
   "display_name": "Python 3",
   "language": "python",
   "name": "python3"
  },
  "language_info": {
   "codemirror_mode": {
    "name": "ipython",
    "version": 3
   },
   "file_extension": ".py",
   "mimetype": "text/x-python",
   "name": "python",
   "nbconvert_exporter": "python",
   "pygments_lexer": "ipython3",
   "version": "3.8.8"
  },
  "latex_envs": {
   "LaTeX_envs_menu_present": true,
   "autoclose": false,
   "autocomplete": true,
   "bibliofile": "biblio.bib",
   "cite_by": "apalike",
   "current_citInitial": 1,
   "eqLabelWithNumbers": true,
   "eqNumInitial": 1,
   "hotkeys": {
    "equation": "Ctrl-E",
    "itemize": "Ctrl-I"
   },
   "labels_anchors": false,
   "latex_user_defs": false,
   "report_style_numbering": false,
   "user_envs_cfg": false
  },
  "toc": {
   "base_numbering": 1,
   "nav_menu": {},
   "number_sections": true,
   "sideBar": true,
   "skip_h1_title": false,
   "title_cell": "Table of Contents",
   "title_sidebar": "Contents",
   "toc_cell": false,
   "toc_position": {},
   "toc_section_display": true,
   "toc_window_display": false
  }
 },
 "nbformat": 4,
 "nbformat_minor": 5
}
