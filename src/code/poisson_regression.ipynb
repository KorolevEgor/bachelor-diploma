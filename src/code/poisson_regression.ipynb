{
 "cells": [
  {
   "cell_type": "code",
   "execution_count": 290,
   "id": "8756efca",
   "metadata": {},
   "outputs": [],
   "source": [
    "import numpy as np\n",
    "import pandas as pd\n",
    "import math\n",
    "\n",
    "import matplotlib.pyplot as plt\n",
    "import seaborn as sns\n",
    "%matplotlib inline\n",
    "\n",
    "from sklearn.preprocessing import normalize\n",
    "from scipy.sparse import dia_matrix\n",
    "from scipy.optimize import minimize, shgo, dual_annealing, differential_evolution, basinhopping\n",
    "import scipy\n",
    "\n",
    "from sklearn.model_selection import train_test_split"
   ]
  },
  {
   "cell_type": "code",
   "execution_count": 13,
   "id": "5d1d4f05",
   "metadata": {},
   "outputs": [],
   "source": [
    "path = \"../data/data.xlsx\"\n",
    "df = pd.read_excel(path)\n",
    "df.Дата = df.Дата.astype('datetime64[ns]')"
   ]
  },
  {
   "cell_type": "code",
   "execution_count": 14,
   "id": "50080e5c",
   "metadata": {},
   "outputs": [],
   "source": [
    "features = [\n",
    "    ['intercept', 'Кривизна'],\n",
    "    ['intercept', 'Кривизна', 'Профиль пути'],\n",
    "    ['intercept', 'Кривизна', 'n_feature_1'], # Профиль пути * Макс. число вагонов в сходе\n",
    "    ['intercept', 'Кривизна', 'n_feature_2'], # 1 - Макс. число вагонов в сходе / Общее количество вагонов\n",
    "    ['intercept', 'Кривизна', 'n_feature_3'], # Скорость * Загрузка\n",
    "    ['intercept', 'Кривизна', 'Профиль пути', 'n_feature_3'],\n",
    "    ['intercept', 'Кривизна', 'Профиль пути', 'n_feature_3', 'n_feature_2'],\n",
    "    ['intercept', 'Профиль пути', 'n_feature_3', 'n_feature_2']\n",
    "]\n",
    "\n",
    "target = ['Количество сшедших вагонов']"
   ]
  },
  {
   "cell_type": "code",
   "execution_count": 15,
   "id": "c89f7274",
   "metadata": {},
   "outputs": [
    {
     "data": {
      "text/plain": [
       "35"
      ]
     },
     "execution_count": 15,
     "metadata": {},
     "output_type": "execute_result"
    }
   ],
   "source": [
    "test_data = df[['intercept', 'Профиль пути', 'n_feature_3', 'n_feature_2', 'n_feature_1', 'Кривизна', 'Количество сшедших вагонов']].dropna()\n",
    "len(test_data)"
   ]
  },
  {
   "cell_type": "code",
   "execution_count": 235,
   "id": "8d4cee2a",
   "metadata": {},
   "outputs": [],
   "source": [
    "lambdas = [\n",
    "    (lambda t: np.exp(t)),\n",
    "    (lambda t: np.exp(-t * t)),\n",
    "    (lambda t: 1 + np.sqrt(np.abs(25 - (t-5)*(t-5)))),\n",
    "    (lambda t: (t-1)*(t-1)),\n",
    "    (lambda t: 1 / (1 + t*t)),\n",
    "    (lambda t: t * (np.pi / 2.0 - np.arctan(-t)) + 1),\n",
    "    (lambda t: np.log(1 + t*t) + 1),\n",
    "]\n",
    "\n",
    "log_lambdas = [\n",
    "    (lambda t: t),\n",
    "    (lambda t: -t * t),\n",
    "    (lambda t: np.log(1 + np.sqrt(np.abs(25 - (t-5)*(t-5))))),\n",
    "    (lambda t: np.log((t-1)*(t-1))),\n",
    "    (lambda t: -np.log(1 + t*t)),\n",
    "    (lambda t: np.log(t * (np.pi / 2.0 - np.arctan(-t)) + 1)),\n",
    "    (lambda t: np.log(np.log(1 + t*t) + 1)),\n",
    "]\n",
    "\n",
    "log_one_minus_lambdas = [\n",
    "    (lambda t: np.log(np.abs(1 - np.exp(t)))),\n",
    "    (lambda t: np.log(np.abs(1 - np.exp(-t * t)))),\n",
    "    (lambda t: np.log(np.abs(-np.sqrt(np.abs(25 - (t-5)*(t-5)))))),\n",
    "    (lambda t: np.log(np.abs(1 - (t-1)*(t-1)))),\n",
    "    (lambda t: np.log(t*t) - np.log(1 + t*t)),\n",
    "    (lambda t: np.log(np.abs(-t * (np.pi / 2.0 - np.arctan(-t))))),\n",
    "    (lambda t: np.log(np.abs(-np.log(1 + t*t)))),\n",
    "]"
   ]
  },
  {
   "cell_type": "code",
   "execution_count": 334,
   "id": "e7eecd25",
   "metadata": {},
   "outputs": [],
   "source": [
    "lambdas_2 = [\n",
    "    (lambda t: np.exp(t)),\n",
    "    (lambda t: np.exp(-t * t)),\n",
    "    (lambda t: 1 / (1 + np.exp(-t))),\n",
    "    #(lambda t: (t-1)*(t-1)),\n",
    "    (lambda t: 1 / (1 + t*t)),\n",
    "    (lambda t: t * (np.pi / 2.0 - np.arctan(-t)) + 1),\n",
    "    #(lambda t: np.log(1 + t*t) + 1),\n",
    "]\n",
    "\n",
    "log_lambdas_2 = [\n",
    "    (lambda t: t),\n",
    "    (lambda t: -t * t),\n",
    "    (lambda t: -np.log(1 + np.exp(-t))),\n",
    "    #(lambda t: np.log((t-1)*(t-1))),\n",
    "    (lambda t: -np.log(1 + t*t)),\n",
    "    (lambda t: np.log(t * (np.pi / 2.0 - np.arctan(-t)) + 1)),\n",
    "    #(lambda t: np.log(np.log(1 + t*t) + 1)),\n",
    "]\n",
    "\n",
    "log_one_minus_lambdas_2 = [\n",
    "    (lambda t: np.log(1 - np.exp(t))),\n",
    "    (lambda t: np.log(1 - np.exp(-t * t))),\n",
    "    (lambda t: -np.log(1 + np.exp(t))),\n",
    "    #(lambda t: np.log(1 - (t-1)*(t-1))),\n",
    "    (lambda t: np.log(t*t) - np.log(1 + t*t)),\n",
    "    (lambda t: np.log(-t * (np.pi / 2.0 - np.arctan(-t)))),\n",
    "    #(lambda t: np.log(-np.log(1 + t*t))),\n",
    "]"
   ]
  },
  {
   "cell_type": "code",
   "execution_count": 229,
   "id": "e452fed6",
   "metadata": {},
   "outputs": [],
   "source": [
    "def toFixed2(a):\n",
    "    result_str = ''\n",
    "    #if type(a) == np.float64:\n",
    "    #    return '[' + str(round(a, 2)) + ']'\n",
    "    if a is None:\n",
    "        return 'None'\n",
    "    for i in a:\n",
    "        result_str += ('%.2f, ' % i)\n",
    "    result_str = result_str[:-2]\n",
    "    result_str = '[' + result_str + ']'\n",
    "    return result_str"
   ]
  },
  {
   "cell_type": "code",
   "execution_count": 305,
   "id": "96f766b9",
   "metadata": {},
   "outputs": [],
   "source": [
    "class PoissonRegression():\n",
    "    theta = None\n",
    "    lambda_index = 0\n",
    "    X = None\n",
    "    y = None\n",
    "    half_side = 1000\n",
    "    bounds = 10 * [(-half_side, half_side)]\n",
    "    new_bounds = 10 * [(None, None)]\n",
    "    \n",
    "    def __init__(self, df, features, target):\n",
    "        self.df = df\n",
    "        self.features = features\n",
    "        self.target = target\n",
    "        self.theta = np.zeros(len(self.features[0]))\n",
    "    \n",
    "    def log_likelihood_function_compact(self, theta):\n",
    "        result = 0\n",
    "        for i in range(len(self.y)):\n",
    "            dot_prod = float(np.dot(self.X[i], theta))\n",
    "            lambda_value = lambdas[self.lambda_index](dot_prod)\n",
    "            log_lambda_value = log_lambdas[self.lambda_index](dot_prod)\n",
    "            result += (float(self.y[i]) - 1) * log_lambda_value - lambda_value\n",
    "        return -result\n",
    "    \n",
    "    def get_log_likelihood_const(self):\n",
    "        result = 0\n",
    "        for i in range(len(self.y)):\n",
    "            result += -np.log(scipy.special.factorial(self.y[i]))\n",
    "        return result\n",
    "    \n",
    "#     def construct_plot(self):\n",
    "#         plt.yticks(range(1, 30,2))\n",
    "#         plt.plot(data['Количество сшедших вагонов'], color='black', marker='^', linestyle='none', markersize=5)\n",
    "#         #plt.plot(FIXME, color='red', marker='+', linestyle='none', markersize=5)\n",
    "#         plt.xlabel('номер наблюдения')\n",
    "#         plt.ylabel('кол-во сшедших вагонов')\n",
    "#         plt.legend(['source' ,'lambda_1'], loc=5)\n",
    "#         plt.show()\n",
    "    \n",
    "    def calc_aic_c(self, logL) -> float:\n",
    "        logL = float(logL[1:-1])\n",
    "        k = len(self.features)\n",
    "        n = len(self.y)\n",
    "        return round(2 * (k - logL) + 2 * k * (k + 1) / (n - k - 1), 2)\n",
    "    \n",
    "    def fit_all(self):\n",
    "        for feature in self.features:\n",
    "            data = self.df[feature + self.target].dropna()\n",
    "            \n",
    "            self.y = data[self.target]\n",
    "            self.y = np.array(self.y)\n",
    "            self.X = data.drop(self.target, axis=1)\n",
    "            self.X = np.matrix(self.X)\n",
    "            \n",
    "            thetas_for_tex = ''\n",
    "            thetas_without_round_for_tex = ''\n",
    "            AIC_c_for_tex = ''\n",
    "            \n",
    "            print(feature)\n",
    "            print('n = ', len(self.y))\n",
    "            \n",
    "            for lambda_index in range(len(lambdas)):\n",
    "                self.lambda_index = lambda_index\n",
    "                \n",
    "                results = shgo(self.log_likelihood_function_compact, self.bounds[:len(feature)])\n",
    "                thetas_for_tex += toFixed2(results['x']) + ' & '\n",
    "                thetas_without_round_for_tex += str(results['x']) + ' & '\n",
    "                AIC_c_for_tex += str(self.calc_aic_c(toFixed2(-results['fun'] + self.get_log_likelihood_const()))) + ' & '\n",
    "                \n",
    "                print('success: ', results['success'])\n",
    "                print('ln L: ', toFixed2(-results['fun'] + self.get_log_likelihood_const()))\n",
    "                print('AIC_c', self.calc_aic_c(toFixed2(-results['fun'] + self.get_log_likelihood_const())))\n",
    "                print('thetas: ', toFixed2(results['x']))\n",
    "                print()\n",
    "                #min_llfc = minimize(self.log_likelihood_function_compact, np.zeros(len(feature)))\n",
    "            \n",
    "            print('thetas_for_tex: ', thetas_for_tex[:-2])\n",
    "            print('AIC_c_for_tex:  ', AIC_c_for_tex[:-2])\n",
    "            print('thetas_for_tex: ', thetas_without_round_for_tex[:-2])\n",
    "            print(\"########################################################\")"
   ]
  },
  {
   "cell_type": "code",
   "execution_count": 306,
   "id": "ec1dab32",
   "metadata": {
    "scrolled": true
   },
   "outputs": [
    {
     "name": "stdout",
     "output_type": "stream",
     "text": [
      "['intercept', 'Кривизна']\n",
      "n =  46\n",
      "success:  True\n",
      "ln L:  [-256.27]\n",
      "AIC_c 532.43\n",
      "thetas:  [1.18, -271.63]\n",
      "\n",
      "success:  True\n",
      "ln L:  [-306.66]\n",
      "AIC_c 633.21\n",
      "thetas:  [-0.00, 0.00]\n",
      "\n",
      "success:  True\n",
      "ln L:  [-306.66]\n",
      "AIC_c 633.21\n",
      "thetas:  [0.00, 0.00]\n",
      "\n",
      "success:  True\n",
      "ln L:  [-256.14]\n",
      "AIC_c 532.17\n",
      "thetas:  [-0.80, 208.15]\n",
      "\n",
      "success:  True\n",
      "ln L:  [-306.66]\n",
      "AIC_c 633.21\n",
      "thetas:  [-0.00, 0.00]\n",
      "\n",
      "success:  True\n",
      "ln L:  [-256.28]\n",
      "AIC_c"
     ]
    },
    {
     "name": "stderr",
     "output_type": "stream",
     "text": [
      "<ipython-input-235-e1aeffde540f>:2: RuntimeWarning: overflow encountered in exp\n",
      "  (lambda t: np.exp(t)),\n"
     ]
    },
    {
     "name": "stdout",
     "output_type": "stream",
     "text": [
      " 532.45\n",
      "thetas:  [0.95, -236.29]\n",
      "\n",
      "success:  True\n",
      "ln L:  [-256.66]\n",
      "AIC_c 533.21\n",
      "thetas:  [2.66, -549.73]\n",
      "\n",
      "thetas_for_tex:  [1.18, -271.63] & [-0.00, 0.00] & [0.00, 0.00] & [-0.80, 208.15] & [-0.00, 0.00] & [0.95, -236.29] & [2.66, -549.73] \n",
      "AIC_c_for_tex:   532.43 & 633.21 & 633.21 & 532.17 & 633.21 & 532.45 & 533.21 \n",
      "thetas_for_tex:  [   1.17663977 -271.62551142] & [-2.73694797e-11  0.00000000e+00] & [0. 0.] & [ -0.79854568 208.15177928] & [-2.73694797e-11  0.00000000e+00] & [   0.94835424 -236.2893394 ] & [   2.66181393 -549.7289914 ] \n",
      "########################################################\n",
      "['intercept', 'Кривизна', 'Профиль пути']\n",
      "n =  41\n",
      "success:  True\n",
      "ln L:  [-242.56]\n",
      "AIC_c 505.62\n",
      "thetas:  [1.17, -160.85, 39.30]\n",
      "\n",
      "success:  True\n",
      "ln L:  [-299.87]\n",
      "AIC_c 620.24\n",
      "thetas:  [-0.00, 0.00, 0.00]\n",
      "\n"
     ]
    },
    {
     "name": "stderr",
     "output_type": "stream",
     "text": [
      "<ipython-input-235-e1aeffde540f>:2: RuntimeWarning: overflow encountered in exp\n",
      "  (lambda t: np.exp(t)),\n"
     ]
    },
    {
     "name": "stdout",
     "output_type": "stream",
     "text": [
      "success:  True\n",
      "ln L:  [-239.22]\n",
      "AIC_c 498.94\n",
      "thetas:  [0.56, -114.67, 35.95]\n",
      "\n",
      "success:  True\n",
      "ln L:  [-239.73]\n",
      "AIC_c 499.96\n",
      "thetas:  [-0.83, 212.70, -56.93]\n",
      "\n",
      "success:  True\n",
      "ln L:  [-299.87]\n",
      "AIC_c 620.24\n",
      "thetas:  [-0.00, 0.00, 0.00]\n",
      "\n",
      "success:  True\n",
      "ln L:  [-238.18]\n",
      "AIC_c 496.86\n",
      "thetas:  [1.05, -281.75, 83.44]\n",
      "\n",
      "success:  True\n",
      "ln L:  [-235.22]\n",
      "AIC_c 490.94\n",
      "thetas:  [3.28, -486.77, 276.36]\n",
      "\n",
      "thetas_for_tex:  [1.17, -160.85, 39.30] & [-0.00, 0.00, 0.00] & [0.56, -114.67, 35.95] & [-0.83, 212.70, -56.93] & [-0.00, 0.00, 0.00] & [1.05, -281.75, 83.44] & [3.28, -486.77, 276.36] \n",
      "AIC_c_for_tex:   505.62 & 620.24 & 498.94 & 499.96 & 620.24 & 496.86 & 490.94 \n",
      "thetas_for_tex:  [   1.17290277 -160.84988797   39.29626948] & [-2.73694797e-11  0.00000000e+00  0.00000000e+00] & [   0.55589183 -114.66800927   35.94991553] & [ -0.83371448 212.69978342 -56.92629995] & [-2.73694797e-11  0.00000000e+00  0.00000000e+00] & [   1.05191539 -281.7481183    83.4432927 ] & [   3.28364783 -486.769352    276.36319505] \n",
      "########################################################\n",
      "['intercept', 'Кривизна', 'n_feature_1']\n",
      "n =  37\n"
     ]
    },
    {
     "name": "stderr",
     "output_type": "stream",
     "text": [
      "<ipython-input-235-e1aeffde540f>:2: RuntimeWarning: overflow encountered in exp\n",
      "  (lambda t: np.exp(t)),\n"
     ]
    },
    {
     "name": "stdout",
     "output_type": "stream",
     "text": [
      "success:  True\n",
      "ln L:  [-229.64]\n",
      "AIC_c 480.42\n",
      "thetas:  [1.29, -201.69, 0.82]\n",
      "\n",
      "success:  True\n",
      "ln L:  [-295.87]\n",
      "AIC_c 612.88\n",
      "thetas:  [-0.00, 0.00, 0.00]\n",
      "\n",
      "success:  True\n",
      "ln L:  [-225.45]\n",
      "AIC_c 472.04\n",
      "thetas:  [0.78, -67.92, 1.64]\n",
      "\n",
      "success:  True\n",
      "ln L:  [-226.12]\n",
      "AIC_c 473.38\n",
      "thetas:  [-0.94, 280.75, -1.44]\n",
      "\n",
      "success:  True\n",
      "ln L:  [-295.87]\n",
      "AIC_c 612.88\n",
      "thetas:  [-0.00, 0.00, 0.00]\n",
      "\n",
      "success:  True\n",
      "ln L:  [-223.19]\n",
      "AIC_c 467.52\n",
      "thetas:  [1.21, -426.41, 2.49]\n",
      "\n",
      "success:  True\n",
      "ln L:  [-221.11]\n",
      "AIC_c 463.36\n",
      "thetas:  [3.91, -1000.00, 7.26]\n",
      "\n",
      "thetas_for_tex:  [1.29, -201.69, 0.82] & [-0.00, 0.00, 0.00] & [0.78, -67.92, 1.64] & [-0.94, 280.75, -1.44] & [-0.00, 0.00, 0.00] & [1.21, -426.41, 2.49] & [3.91, -1000.00, 7.26] \n",
      "AIC_c_for_tex:   480.42 & 612.88 & 472.04 & 473.38 & 612.88 & 467.52 & 463.36 \n",
      "thetas_for_tex:  [   1.29025113 -201.69043337    0.81851112] & [-2.73694797e-11  0.00000000e+00  0.00000000e+00] & [  0.77769163 -67.92105618   1.64367355] & [ -0.93871601 280.7532128   -1.43886028] & [-2.73694797e-11  0.00000000e+00  0.00000000e+00] & [   1.21245813 -426.40820177    2.49397347] & [    3.90693649 -1000.             7.26267851] \n",
      "########################################################\n",
      "['intercept', 'Кривизна', 'n_feature_2']\n",
      "n =  42\n"
     ]
    },
    {
     "name": "stderr",
     "output_type": "stream",
     "text": [
      "<ipython-input-235-e1aeffde540f>:2: RuntimeWarning: overflow encountered in exp\n",
      "  (lambda t: np.exp(t)),\n"
     ]
    },
    {
     "name": "stdout",
     "output_type": "stream",
     "text": [
      "success:  True\n",
      "ln L:  [-221.91]\n",
      "AIC_c 464.18\n",
      "thetas:  [2.11, -180.43, -2.36]\n",
      "\n",
      "success:  True\n",
      "ln L:  [-302.66]\n",
      "AIC_c 625.68\n",
      "thetas:  [-0.00, 0.00, 0.00]\n",
      "\n",
      "success:  True\n",
      "ln L:  [-233.75]\n",
      "AIC_c 487.86\n",
      "thetas:  [1.98, 3.85, -2.09]\n",
      "\n",
      "success:  True\n",
      "ln L:  [-219.09]\n",
      "AIC_c 458.54\n",
      "thetas:  [-1.70, 207.42, 1.96]\n",
      "\n",
      "success:  True\n",
      "ln L:  [-302.66]\n",
      "AIC_c 625.68\n",
      "thetas:  [-0.00, 0.00, 0.00]\n",
      "\n",
      "success:  True\n",
      "ln L:  [-219.07]\n",
      "AIC_c 458.5\n",
      "thetas:  [2.19, -302.64, -2.53]\n",
      "\n",
      "success:  True\n",
      "ln L:  [-227.13]\n",
      "AIC_c 474.62\n",
      "thetas:  [5.94, -74.64, -6.39]\n",
      "\n",
      "thetas_for_tex:  [2.11, -180.43, -2.36] & [-0.00, 0.00, 0.00] & [1.98, 3.85, -2.09] & [-1.70, 207.42, 1.96] & [-0.00, 0.00, 0.00] & [2.19, -302.64, -2.53] & [5.94, -74.64, -6.39] \n",
      "AIC_c_for_tex:   464.18 & 625.68 & 487.86 & 458.54 & 625.68 & 458.5 & 474.62 \n",
      "thetas_for_tex:  [   2.11226998 -180.42660675   -2.35720559] & [-2.73694797e-11  0.00000000e+00  0.00000000e+00] & [ 1.97968628  3.85076761 -2.09191408] & [ -1.70185865 207.41800967   1.96377424] & [-2.73694797e-11  0.00000000e+00  0.00000000e+00] & [   2.18799638 -302.64037064   -2.53289487] & [  5.94128598 -74.63569603  -6.3852027 ] \n",
      "########################################################\n",
      "['intercept', 'Кривизна', 'n_feature_3']\n",
      "n =  42\n"
     ]
    },
    {
     "name": "stderr",
     "output_type": "stream",
     "text": [
      "<ipython-input-235-e1aeffde540f>:2: RuntimeWarning: overflow encountered in exp\n",
      "  (lambda t: np.exp(t)),\n"
     ]
    },
    {
     "name": "stdout",
     "output_type": "stream",
     "text": [
      "success:  True\n",
      "ln L:  [-225.92]\n",
      "AIC_c 472.2\n",
      "thetas:  [-0.09, -237.26, 0.03]\n",
      "\n",
      "success:  True\n",
      "ln L:  [-289.86]\n",
      "AIC_c 600.08\n",
      "thetas:  [-0.00, 0.00, -0.00]\n",
      "\n",
      "success:  True\n",
      "ln L:  [-289.86]\n",
      "AIC_c 600.08\n",
      "thetas:  [0.00, 0.00, 0.00]\n",
      "\n",
      "success:  True\n",
      "ln L:  [-220.59]\n",
      "AIC_c 461.54\n",
      "thetas:  [0.44, 216.06, -0.03]\n",
      "\n",
      "success:  True\n",
      "ln L:  [-289.86]\n",
      "AIC_c 600.08\n",
      "thetas:  [-0.00, 0.00, -0.00]\n",
      "\n",
      "success:  True\n",
      "ln L:  [-219.83]\n",
      "AIC_c 460.02\n",
      "thetas:  [-0.64, -262.77, 0.03]\n",
      "\n",
      "success:  True\n",
      "ln L:  [-223.90]\n",
      "AIC_c 468.16\n",
      "thetas:  [-0.39, -431.93, 0.07]\n",
      "\n",
      "thetas_for_tex:  [-0.09, -237.26, 0.03] & [-0.00, 0.00, -0.00] & [0.00, 0.00, 0.00] & [0.44, 216.06, -0.03] & [-0.00, 0.00, -0.00] & [-0.64, -262.77, 0.03] & [-0.39, -431.93, 0.07] \n",
      "AIC_c_for_tex:   472.2 & 600.08 & 600.08 & 461.54 & 600.08 & 460.02 & 468.16 \n",
      "thetas_for_tex:  [-9.41003548e-02 -2.37256635e+02  2.51877927e-02] & [-7.05096425e-14  0.00000000e+00 -2.00576430e-10] & [0. 0. 0.] & [ 4.41690147e-01  2.16055743e+02 -2.59179453e-02] & [-7.04984062e-14  0.00000000e+00 -2.00567966e-10] & [-6.42678813e-01 -2.62766296e+02  3.45308377e-02] & [-3.92361274e-01 -4.31932763e+02  7.33414901e-02] \n",
      "########################################################\n",
      "['intercept', 'Кривизна', 'Профиль пути', 'n_feature_3']\n",
      "n =  37\n"
     ]
    },
    {
     "name": "stderr",
     "output_type": "stream",
     "text": [
      "<ipython-input-235-e1aeffde540f>:2: RuntimeWarning: overflow encountered in exp\n",
      "  (lambda t: np.exp(t)),\n"
     ]
    },
    {
     "name": "stdout",
     "output_type": "stream",
     "text": [
      "success:  True\n",
      "ln L:  [-213.12]\n",
      "AIC_c 447.38\n",
      "thetas:  [-0.15, -148.04, 53.13, 0.03]\n",
      "\n",
      "success:  True\n",
      "ln L:  [-283.07]\n",
      "AIC_c 587.28\n",
      "thetas:  [-0.00, 0.00, 0.00, -0.00]\n",
      "\n",
      "success:  True\n",
      "ln L:  [-247.44]\n",
      "AIC_c 516.02\n",
      "thetas:  [9.24, 3.94, 3.55, -0.11]\n",
      "\n",
      "success:  True\n",
      "ln L:  [-209.23]\n",
      "AIC_c 439.6\n",
      "thetas:  [0.29, 244.79, -52.47, -0.02]\n",
      "\n",
      "success:  True\n",
      "ln L:  [-283.07]\n",
      "AIC_c 587.28\n",
      "thetas:  [-0.00, 0.00, 0.00, -0.00]\n",
      "\n",
      "success:  True\n",
      "ln L:  [-208.26]\n",
      "AIC_c 437.66\n",
      "thetas:  [-0.47, -328.73, 75.88, 0.03]\n",
      "\n",
      "success:  True\n",
      "ln L:  [-213.65]\n",
      "AIC_c 448.44\n",
      "thetas:  [-0.31, -633.78, 7.19, 0.08]\n",
      "\n",
      "thetas_for_tex:  [-0.15, -148.04, 53.13, 0.03] & [-0.00, 0.00, 0.00, -0.00] & [9.24, 3.94, 3.55, -0.11] & [0.29, 244.79, -52.47, -0.02] & [-0.00, 0.00, 0.00, -0.00] & [-0.47, -328.73, 75.88, 0.03] & [-0.31, -633.78, 7.19, 0.08] \n",
      "AIC_c_for_tex:   447.38 & 587.28 & 516.02 & 439.6 & 587.28 & 437.66 & 448.44 \n",
      "thetas_for_tex:  [-1.48804956e-01 -1.48036460e+02  5.31272408e+01  2.66695834e-02] & [-7.09391652e-14  0.00000000e+00  0.00000000e+00 -2.01254412e-10] & [ 9.24393014  3.94187122  3.55281838 -0.11333238] & [ 2.93385652e-01  2.44792516e+02 -5.24674773e+01 -2.44099749e-02] & [-7.07090063e-14  0.00000000e+00  0.00000000e+00 -2.00601451e-10] & [-4.66102812e-01 -3.28733843e+02  7.58821258e+01  3.27854652e-02] & [-3.13712684e-01 -6.33780848e+02  7.18874621e+00  8.24897058e-02] \n",
      "########################################################\n",
      "['intercept', 'Кривизна', 'Профиль пути', 'n_feature_3', 'n_feature_2']\n",
      "n =  35\n",
      "success:  True\n",
      "ln L:  [-194.03]\n",
      "AIC_c 409.6\n",
      "thetas:  [0.92, -105.35, 34.34, 0.02, -2.24]\n",
      "\n"
     ]
    },
    {
     "name": "stderr",
     "output_type": "stream",
     "text": [
      "<ipython-input-235-e1aeffde540f>:2: RuntimeWarning: overflow encountered in exp\n",
      "  (lambda t: np.exp(t)),\n"
     ]
    },
    {
     "name": "stdout",
     "output_type": "stream",
     "text": [
      "success:  True\n",
      "ln L:  [-281.07]\n",
      "AIC_c 583.68\n",
      "thetas:  [-0.00, 0.00, 0.00, -0.00, 0.00]\n",
      "\n",
      "success:  True\n",
      "ln L:  [-281.07]\n",
      "AIC_c 583.68\n",
      "thetas:  [0.00, 0.00, 0.00, 0.00, 0.00]\n",
      "\n",
      "success:  True\n",
      "ln L:  [-194.73]\n",
      "AIC_c 411.0\n",
      "thetas:  [-0.98, 242.26, -22.62, -0.01, 1.73]\n",
      "\n",
      "success:  True\n",
      "ln L:  [-281.07]\n",
      "AIC_c 583.68\n",
      "thetas:  [-0.00, 0.00, 0.00, -0.00, 0.00]\n",
      "\n",
      "success:  True\n",
      "ln L:  [-194.63]\n",
      "AIC_c 410.8\n",
      "thetas:  [1.28, -373.54, 41.10, 0.02, -2.34]\n",
      "\n",
      "success:  True\n",
      "ln L:  [-198.76]\n",
      "AIC_c 419.06\n",
      "thetas:  [2.69, -57.95, 235.44, 0.08, -8.15]\n",
      "\n",
      "thetas_for_tex:  [0.92, -105.35, 34.34, 0.02, -2.24] & [-0.00, 0.00, 0.00, -0.00, 0.00] & [0.00, 0.00, 0.00, 0.00, 0.00] & [-0.98, 242.26, -22.62, -0.01, 1.73] & [-0.00, 0.00, 0.00, -0.00, 0.00] & [1.28, -373.54, 41.10, 0.02, -2.34] & [2.69, -57.95, 235.44, 0.08, -8.15] \n",
      "AIC_c_for_tex:   409.6 & 583.68 & 583.68 & 411.0 & 583.68 & 410.8 & 419.06 \n",
      "thetas_for_tex:  [ 9.20623915e-01 -1.05351925e+02  3.43369654e+01  2.12149958e-02\n",
      " -2.23822805e+00] & [-6.99064063e-14  0.00000000e+00  0.00000000e+00 -2.01144033e-10\n",
      "  0.00000000e+00] & [0. 0. 0. 0. 0.] & [-9.82509027e-01  2.42261067e+02 -2.26206766e+01 -1.29605723e-02\n",
      "  1.73184940e+00] & [-6.99656641e-14  0.00000000e+00  0.00000000e+00 -2.01314537e-10\n",
      "  0.00000000e+00] & [ 1.28025446e+00 -3.73540857e+02  4.11038783e+01  1.68901913e-02\n",
      " -2.34402261e+00] & [ 2.68870152e+00 -5.79469826e+01  2.35444378e+02  7.88650092e-02\n",
      " -8.15418807e+00] \n",
      "########################################################\n",
      "['intercept', 'Профиль пути', 'n_feature_3', 'n_feature_2']\n",
      "n =  37\n",
      "success:  True\n",
      "ln L:  [-200.70]\n",
      "AIC_c 422.54\n",
      "thetas:  [0.55, 39.28, 0.03, -2.14]\n",
      "\n",
      "success:  True\n",
      "ln L:  [-283.07]\n",
      "AIC_c 587.28\n",
      "thetas:  [-0.00, 0.00, -0.00, 0.00]\n",
      "\n",
      "success:  True\n",
      "ln L:  [-283.07]\n",
      "AIC_c 587.28\n",
      "thetas:  [0.00, 0.00, 0.00, 0.00]\n",
      "\n"
     ]
    },
    {
     "name": "stderr",
     "output_type": "stream",
     "text": [
      "<ipython-input-235-e1aeffde540f>:2: RuntimeWarning: overflow encountered in exp\n",
      "  (lambda t: np.exp(t)),\n"
     ]
    },
    {
     "name": "stdout",
     "output_type": "stream",
     "text": [
      "success:  True\n",
      "ln L:  [-205.16]\n",
      "AIC_c 431.46\n",
      "thetas:  [-0.49, -15.96, -0.02, 1.44]\n",
      "\n",
      "success:  True\n",
      "ln L:  [-283.07]\n",
      "AIC_c 587.28\n",
      "thetas:  [-0.00, 0.00, -0.00, 0.00]\n",
      "\n",
      "success:  True\n",
      "ln L:  [-205.19]\n",
      "AIC_c 431.52\n",
      "thetas:  [0.31, 26.23, 0.03, -1.97]\n",
      "\n",
      "success:  True\n",
      "ln L:  [-204.94]\n",
      "AIC_c 431.02\n",
      "thetas:  [1.91, 281.49, 0.08, -6.90]\n",
      "\n",
      "thetas_for_tex:  [0.55, 39.28, 0.03, -2.14] & [-0.00, 0.00, -0.00, 0.00] & [0.00, 0.00, 0.00, 0.00] & [-0.49, -15.96, -0.02, 1.44] & [-0.00, 0.00, -0.00, 0.00] & [0.31, 26.23, 0.03, -1.97] & [1.91, 281.49, 0.08, -6.90] \n",
      "AIC_c_for_tex:   422.54 & 587.28 & 587.28 & 431.46 & 587.28 & 431.52 & 431.02 \n",
      "thetas_for_tex:  [ 5.51509058e-01  3.92803528e+01  2.54177579e-02 -2.13831493e+00] & [-7.07737609e-14  0.00000000e+00 -2.01492897e-10  0.00000000e+00] & [0. 0. 0. 0.] & [ -0.49176887 -15.96251758  -0.01698865   1.43914189] & [-7.04401905e-14  0.00000000e+00 -2.00519742e-10  0.00000000e+00] & [ 0.31226161 26.22997155  0.02698085 -1.96985398] & [ 1.90837587e+00  2.81493009e+02  7.62296768e-02 -6.89972218e+00] \n",
      "########################################################\n"
     ]
    }
   ],
   "source": [
    "pRegressor = PoissonRegression(df, features, target)\n",
    "pRegressor.fit_all()"
   ]
  },
  {
   "cell_type": "code",
   "execution_count": 337,
   "id": "8063951c",
   "metadata": {},
   "outputs": [],
   "source": [
    "class GeometryRegression():\n",
    "    theta = None\n",
    "    lambda_index = 0\n",
    "    X = None\n",
    "    y = None\n",
    "    half_side = 1000\n",
    "    bounds = 10 * [(-half_side, half_side)]\n",
    "    new_bounds = 10 * [(None, None)]\n",
    "    \n",
    "    def __init__(self, df, features, target):\n",
    "        self.df = df\n",
    "        self.features = features\n",
    "        self.target = target\n",
    "        self.theta = np.zeros(len(self.features[0]))\n",
    "    \n",
    "    def log_likelihood_function(self, theta) -> float:\n",
    "        result = 0\n",
    "        for i in range(len(self.y)):\n",
    "            dot_prod = float(np.dot(self.X[i], theta))\n",
    "            lambda_value = lambdas_2[self.lambda_index](dot_prod)\n",
    "            log_lambda_value = log_lambdas_2[self.lambda_index](dot_prod)\n",
    "            #if 1 - np.exp(dot_prod) <= 1e-30:\n",
    "            #    print('ALARM !!!!!!!!!!!!!!!!!!')\n",
    "            #result += (float(self.y[i]) - 1) * np.log(1 - np.exp(dot_prod)) + dot_prod\n",
    "            #result += (float(self.y[i]) - 1) * np.log(1 - np.exp(dot_prod) / (1 + np.exp(dot_prod))) + dot_prod - np.log(1 + np.exp(dot_prod))\n",
    "            result += (float(self.y[i]) - 1) * log_one_minus_lambdas_2[self.lambda_index](dot_prod) + log_lambda_value\n",
    "        return -result\n",
    "    \n",
    "#     def construct_plot(self):\n",
    "#         plt.yticks(range(1, 30,2))\n",
    "#         plt.plot(data['Количество сшедших вагонов'], color='black', marker='^', linestyle='none', markersize=5)\n",
    "#         #plt.plot(FIXME, color='red', marker='+', linestyle='none', markersize=5)\n",
    "#         plt.xlabel('номер наблюдения')\n",
    "#         plt.ylabel('кол-во сшедших вагонов')\n",
    "#         plt.legend(['source' ,'lambda_1'], loc=5)\n",
    "#         plt.show()\n",
    "    \n",
    "    def calc_aic_c(self, logL) -> float:\n",
    "        logL = float(logL[1:-1])\n",
    "        k = len(self.features)\n",
    "        n = len(self.y)\n",
    "        return round(2 * (k - logL) + 2 * k * (k + 1) / (n - k - 1), 2)\n",
    "    \n",
    "    def fit_all(self):\n",
    "        for feature in self.features:\n",
    "            data = self.df[feature + self.target].dropna()\n",
    "            \n",
    "            self.y = data[self.target]\n",
    "            self.y = np.array(self.y)\n",
    "            self.X = data.drop(self.target, axis=1)\n",
    "            self.X = np.matrix(self.X)\n",
    "            \n",
    "            thetas_for_tex = ''\n",
    "            thetas_without_round_for_tex = ''\n",
    "            AIC_c_for_tex = ''\n",
    "            \n",
    "            print(feature)\n",
    "            print('n = ', len(self.y))\n",
    "            \n",
    "            for lambda_index in range(len(lambdas_2)):\n",
    "                self.lambda_index = lambda_index\n",
    "                # shgo, dual_annealing, differential_evolution, basinhopping\n",
    "                results = dual_annealing(self.log_likelihood_function, self.bounds[:len(feature)])\n",
    "                i = 0\n",
    "                while math.isnan(results['fun']) and i < 10:\n",
    "                    results = dual_annealing(self.log_likelihood_function, self.bounds[:len(feature)])\n",
    "                    print('lambda_index = ', lambda_index)\n",
    "                    i += 1\n",
    "                thetas_for_tex += toFixed2(results['x']) + ' & '\n",
    "                thetas_without_round_for_tex += str(results['x']) + ' & '\n",
    "                AIC_c_for_tex += str(self.calc_aic_c(toFixed2([-results['fun']]))) + ' & '\n",
    "                \n",
    "                print('success: ', results['success'])\n",
    "                print('ln L: ', toFixed2([-results['fun']]))\n",
    "                print('AIC_c: ', self.calc_aic_c(toFixed2([-results['fun']])))\n",
    "                print('thetas: ', toFixed2(results['x']))\n",
    "                print()\n",
    "                #min_llfc = minimize(self.log_likelihood_function, np.zeros(len(feature)))\n",
    "            \n",
    "            print('thetas_for_tex: ', thetas_for_tex[:-2])\n",
    "            print('AIC_c_for_tex:  ', AIC_c_for_tex[:-2])\n",
    "            print('thetas_for_tex: ', thetas_without_round_for_tex[:-2])\n",
    "            print(\"########################################################\")"
   ]
  },
  {
   "cell_type": "code",
   "execution_count": 338,
   "id": "4477a5dc",
   "metadata": {
    "scrolled": false
   },
   "outputs": [
    {
     "name": "stdout",
     "output_type": "stream",
     "text": [
      "['intercept', 'Кривизна']\n",
      "n =  46\n"
     ]
    },
    {
     "name": "stderr",
     "output_type": "stream",
     "text": [
      "<ipython-input-334-49b39c550010>:2: RuntimeWarning: overflow encountered in exp\n",
      "  (lambda t: np.exp(t)),\n",
      "<ipython-input-334-49b39c550010>:22: RuntimeWarning: overflow encountered in exp\n",
      "  (lambda t: np.log(1 - np.exp(t))),\n",
      "<ipython-input-334-49b39c550010>:22: RuntimeWarning: invalid value encountered in log\n",
      "  (lambda t: np.log(1 - np.exp(t))),\n"
     ]
    },
    {
     "name": "stdout",
     "output_type": "stream",
     "text": [
      "lambda_index =  0\n",
      "lambda_index =  0\n",
      "success:  True\n",
      "ln L:  [-98.07]\n",
      "AIC_c:  216.03\n",
      "thetas:  [-1.46, 215.57]\n",
      "\n",
      "success:  True\n",
      "ln L:  [-98.19]\n",
      "AIC_c:  216.27\n",
      "thetas:  [1.20, -90.37]\n",
      "\n"
     ]
    },
    {
     "name": "stderr",
     "output_type": "stream",
     "text": [
      "<ipython-input-334-49b39c550010>:24: RuntimeWarning: overflow encountered in exp\n",
      "  (lambda t: -np.log(1 + np.exp(t))),\n",
      "<ipython-input-337-fedfc962834c>:26: RuntimeWarning: invalid value encountered in double_scalars\n",
      "  result += (float(self.y[i]) - 1) * log_one_minus_lambdas_2[self.lambda_index](dot_prod) + log_lambda_value\n",
      "<ipython-input-334-49b39c550010>:4: RuntimeWarning: overflow encountered in exp\n",
      "  (lambda t: 1 / (1 + np.exp(-t))),\n",
      "<ipython-input-334-49b39c550010>:14: RuntimeWarning: overflow encountered in exp\n",
      "  (lambda t: -np.log(1 + np.exp(-t))),\n"
     ]
    },
    {
     "name": "stdout",
     "output_type": "stream",
     "text": [
      "success:  True\n",
      "ln L:  [-98.21]\n",
      "AIC_c:  216.31\n",
      "thetas:  [-1.18, 278.32]\n",
      "\n",
      "success:  True\n",
      "ln L:  [-98.04]\n",
      "AIC_c:  215.97\n",
      "thetas:  [-1.82, 233.20]\n",
      "\n"
     ]
    },
    {
     "name": "stderr",
     "output_type": "stream",
     "text": [
      "<ipython-input-334-49b39c550010>:27: RuntimeWarning: invalid value encountered in log\n",
      "  (lambda t: np.log(-t * (np.pi / 2.0 - np.arctan(-t)))),\n"
     ]
    },
    {
     "name": "stdout",
     "output_type": "stream",
     "text": [
      "success:  True\n",
      "ln L:  [-98.01]\n",
      "AIC_c:  215.91\n",
      "thetas:  [-0.95, 150.96]\n",
      "\n",
      "thetas_for_tex:  [-1.46, 215.57] & [1.20, -90.37] & [-1.18, 278.32] & [-1.82, 233.20] & [-0.95, 150.96] \n",
      "AIC_c_for_tex:   216.03 & 216.27 & 216.31 & 215.97 & 215.91 \n",
      "thetas_for_tex:  [ -1.46367698 215.57393801] & [  1.20485286 -90.37106246] & [ -1.18172683 278.3159114 ] & [ -1.82227961 233.20322511] & [ -0.94746076 150.95597313] \n",
      "########################################################\n",
      "['intercept', 'Кривизна', 'Профиль пути']\n",
      "n =  41\n"
     ]
    },
    {
     "name": "stderr",
     "output_type": "stream",
     "text": [
      "<ipython-input-334-49b39c550010>:22: RuntimeWarning: invalid value encountered in log\n",
      "  (lambda t: np.log(1 - np.exp(t))),\n",
      "<ipython-input-334-49b39c550010>:2: RuntimeWarning: overflow encountered in exp\n",
      "  (lambda t: np.exp(t)),\n",
      "<ipython-input-334-49b39c550010>:22: RuntimeWarning: overflow encountered in exp\n",
      "  (lambda t: np.log(1 - np.exp(t))),\n"
     ]
    },
    {
     "name": "stdout",
     "output_type": "stream",
     "text": [
      "lambda_index =  0\n",
      "lambda_index =  0\n",
      "success:  True\n",
      "ln L:  [-87.54]\n",
      "AIC_c:  195.58\n",
      "thetas:  [-1.53, 266.51, -81.67]\n",
      "\n",
      "success:  True\n",
      "ln L:  [-89.41]\n",
      "AIC_c:  199.32\n",
      "thetas:  [1.23, -128.08, 33.41]\n",
      "\n"
     ]
    },
    {
     "name": "stderr",
     "output_type": "stream",
     "text": [
      "<ipython-input-334-49b39c550010>:4: RuntimeWarning: overflow encountered in exp\n",
      "  (lambda t: 1 / (1 + np.exp(-t))),\n",
      "<ipython-input-334-49b39c550010>:14: RuntimeWarning: overflow encountered in exp\n",
      "  (lambda t: -np.log(1 + np.exp(-t))),\n",
      "C:\\ProgramData\\Anaconda3\\lib\\site-packages\\scipy\\optimize\\optimize.py:697: RuntimeWarning: invalid value encountered in double_scalars\n",
      "  df = (f(*((xk + d,) + args)) - f0) / d[k]\n",
      "<ipython-input-334-49b39c550010>:24: RuntimeWarning: overflow encountered in exp\n",
      "  (lambda t: -np.log(1 + np.exp(t))),\n",
      "<ipython-input-337-fedfc962834c>:26: RuntimeWarning: invalid value encountered in double_scalars\n",
      "  result += (float(self.y[i]) - 1) * log_one_minus_lambdas_2[self.lambda_index](dot_prod) + log_lambda_value\n"
     ]
    },
    {
     "name": "stdout",
     "output_type": "stream",
     "text": [
      "success:  True\n",
      "ln L:  [-89.44]\n",
      "AIC_c:  199.38\n",
      "thetas:  [-1.27, 388.34, -103.97]\n",
      "\n",
      "success:  True\n",
      "ln L:  [-85.97]\n",
      "AIC_c:  192.44\n",
      "thetas:  [-1.97, 392.24, -123.78]\n",
      "\n"
     ]
    },
    {
     "name": "stderr",
     "output_type": "stream",
     "text": [
      "<ipython-input-334-49b39c550010>:27: RuntimeWarning: invalid value encountered in log\n",
      "  (lambda t: np.log(-t * (np.pi / 2.0 - np.arctan(-t)))),\n"
     ]
    },
    {
     "name": "stdout",
     "output_type": "stream",
     "text": [
      "success:  True\n",
      "ln L:  [-86.94]\n",
      "AIC_c:  194.38\n",
      "thetas:  [-0.96, 123.77, -69.61]\n",
      "\n",
      "thetas_for_tex:  [-1.53, 266.51, -81.67] & [1.23, -128.08, 33.41] & [-1.27, 388.34, -103.97] & [-1.97, 392.24, -123.78] & [-0.96, 123.77, -69.61] \n",
      "AIC_c_for_tex:   195.58 & 199.32 & 199.38 & 192.44 & 194.38 \n",
      "thetas_for_tex:  [ -1.52536191 266.50641336 -81.66756489] & [   1.22648038 -128.08330617   33.40805837] & [  -1.26547945  388.34229649 -103.9703903 ] & [  -1.96850574  392.23549438 -123.77743088] & [ -0.95554629 123.77087878 -69.61238913] \n",
      "########################################################\n",
      "['intercept', 'Кривизна', 'n_feature_1']\n",
      "n =  37\n"
     ]
    },
    {
     "name": "stderr",
     "output_type": "stream",
     "text": [
      "<ipython-input-334-49b39c550010>:2: RuntimeWarning: overflow encountered in exp\n",
      "  (lambda t: np.exp(t)),\n",
      "<ipython-input-334-49b39c550010>:22: RuntimeWarning: overflow encountered in exp\n",
      "  (lambda t: np.log(1 - np.exp(t))),\n",
      "<ipython-input-334-49b39c550010>:22: RuntimeWarning: invalid value encountered in log\n",
      "  (lambda t: np.log(1 - np.exp(t))),\n"
     ]
    },
    {
     "name": "stdout",
     "output_type": "stream",
     "text": [
      "success:  True\n",
      "ln L:  [-81.77]\n",
      "AIC_c:  184.68\n",
      "thetas:  [-1.56, 262.87, -2.05]\n",
      "\n",
      "success:  True\n",
      "ln L:  [-83.23]\n",
      "AIC_c:  187.6\n",
      "thetas:  [-1.26, 171.59, -0.90]\n",
      "\n"
     ]
    },
    {
     "name": "stderr",
     "output_type": "stream",
     "text": [
      "<ipython-input-334-49b39c550010>:4: RuntimeWarning: overflow encountered in exp\n",
      "  (lambda t: 1 / (1 + np.exp(-t))),\n",
      "<ipython-input-334-49b39c550010>:14: RuntimeWarning: overflow encountered in exp\n",
      "  (lambda t: -np.log(1 + np.exp(-t))),\n",
      "<ipython-input-334-49b39c550010>:24: RuntimeWarning: overflow encountered in exp\n",
      "  (lambda t: -np.log(1 + np.exp(t))),\n",
      "<ipython-input-337-fedfc962834c>:26: RuntimeWarning: invalid value encountered in double_scalars\n",
      "  result += (float(self.y[i]) - 1) * log_one_minus_lambdas_2[self.lambda_index](dot_prod) + log_lambda_value\n"
     ]
    },
    {
     "name": "stdout",
     "output_type": "stream",
     "text": [
      "success:  True\n",
      "ln L:  [-83.08]\n",
      "AIC_c:  187.3\n",
      "thetas:  [-1.40, 560.12, -3.07]\n",
      "\n",
      "success:  True\n",
      "ln L:  [-79.25]\n",
      "AIC_c:  179.64\n",
      "thetas:  [-2.05, 523.11, -3.38]\n",
      "\n"
     ]
    },
    {
     "name": "stderr",
     "output_type": "stream",
     "text": [
      "<ipython-input-334-49b39c550010>:27: RuntimeWarning: invalid value encountered in log\n",
      "  (lambda t: np.log(-t * (np.pi / 2.0 - np.arctan(-t)))),\n"
     ]
    },
    {
     "name": "stdout",
     "output_type": "stream",
     "text": [
      "lambda_index =  4\n",
      "success:  True\n",
      "ln L:  [-81.14]\n",
      "AIC_c:  183.42\n",
      "thetas:  [-1.00, 145.31, -1.55]\n",
      "\n",
      "thetas_for_tex:  [-1.56, 262.87, -2.05] & [-1.26, 171.59, -0.90] & [-1.40, 560.12, -3.07] & [-2.05, 523.11, -3.38] & [-1.00, 145.31, -1.55] \n",
      "AIC_c_for_tex:   184.68 & 187.6 & 187.3 & 179.64 & 183.42 \n",
      "thetas_for_tex:  [ -1.56308417 262.87172739  -2.04777835] & [ -1.26251234 171.59212471  -0.90336355] & [ -1.39758027 560.11500463  -3.06534746] & [ -2.05279257 523.10848111  -3.37879809] & [ -1.00376873 145.30910007  -1.54861055] \n",
      "########################################################\n",
      "['intercept', 'Кривизна', 'n_feature_2']\n",
      "n =  42\n"
     ]
    },
    {
     "name": "stderr",
     "output_type": "stream",
     "text": [
      "<ipython-input-334-49b39c550010>:22: RuntimeWarning: invalid value encountered in log\n",
      "  (lambda t: np.log(1 - np.exp(t))),\n",
      "<ipython-input-334-49b39c550010>:2: RuntimeWarning: overflow encountered in exp\n",
      "  (lambda t: np.exp(t)),\n",
      "<ipython-input-334-49b39c550010>:22: RuntimeWarning: overflow encountered in exp\n",
      "  (lambda t: np.log(1 - np.exp(t))),\n"
     ]
    },
    {
     "name": "stdout",
     "output_type": "stream",
     "text": [
      "success:  True\n",
      "ln L:  [-85.45]\n",
      "AIC_c:  191.26\n",
      "thetas:  [-2.13, 130.97, 1.45]\n",
      "\n",
      "success:  True\n",
      "ln L:  [-84.85]\n",
      "AIC_c:  190.06\n",
      "thetas:  [-1.57, 111.19, 0.86]\n",
      "\n"
     ]
    },
    {
     "name": "stderr",
     "output_type": "stream",
     "text": [
      "<ipython-input-334-49b39c550010>:24: RuntimeWarning: overflow encountered in exp\n",
      "  (lambda t: -np.log(1 + np.exp(t))),\n",
      "<ipython-input-337-fedfc962834c>:26: RuntimeWarning: invalid value encountered in double_scalars\n",
      "  result += (float(self.y[i]) - 1) * log_one_minus_lambdas_2[self.lambda_index](dot_prod) + log_lambda_value\n",
      "<ipython-input-334-49b39c550010>:4: RuntimeWarning: overflow encountered in exp\n",
      "  (lambda t: 1 / (1 + np.exp(-t))),\n",
      "<ipython-input-334-49b39c550010>:14: RuntimeWarning: overflow encountered in exp\n",
      "  (lambda t: -np.log(1 + np.exp(-t))),\n"
     ]
    },
    {
     "name": "stdout",
     "output_type": "stream",
     "text": [
      "lambda_index =  2\n",
      "success:  True\n",
      "ln L:  [-85.02]\n",
      "AIC_c:  190.4\n",
      "thetas:  [-2.35, 342.71, 2.72]\n",
      "\n",
      "success:  True\n",
      "ln L:  [-84.05]\n",
      "AIC_c:  188.46\n",
      "thetas:  [2.75, -255.76, -1.99]\n",
      "\n"
     ]
    },
    {
     "name": "stderr",
     "output_type": "stream",
     "text": [
      "<ipython-input-334-49b39c550010>:27: RuntimeWarning: invalid value encountered in log\n",
      "  (lambda t: np.log(-t * (np.pi / 2.0 - np.arctan(-t)))),\n"
     ]
    },
    {
     "name": "stdout",
     "output_type": "stream",
     "text": [
      "lambda_index =  4\n",
      "success:  True\n",
      "ln L:  [-149.61]\n",
      "AIC_c:  319.58\n",
      "thetas:  [-7.83, 18.39, 8.09]\n",
      "\n",
      "thetas_for_tex:  [-2.13, 130.97, 1.45] & [-1.57, 111.19, 0.86] & [-2.35, 342.71, 2.72] & [2.75, -255.76, -1.99] & [-7.83, 18.39, 8.09] \n",
      "AIC_c_for_tex:   191.26 & 190.06 & 190.4 & 188.46 & 319.58 \n",
      "thetas_for_tex:  [ -2.13351482 130.9676399    1.45078894] & [ -1.570272   111.18846654   0.85594   ] & [ -2.34701288 342.70516192   2.71624844] & [   2.74556315 -255.75919856   -1.98648891] & [-7.82683527 18.39196142  8.09430115] \n",
      "########################################################\n",
      "['intercept', 'Кривизна', 'n_feature_3']\n",
      "n =  42\n"
     ]
    },
    {
     "name": "stderr",
     "output_type": "stream",
     "text": [
      "<ipython-input-334-49b39c550010>:2: RuntimeWarning: overflow encountered in exp\n",
      "  (lambda t: np.exp(t)),\n",
      "<ipython-input-334-49b39c550010>:22: RuntimeWarning: overflow encountered in exp\n",
      "  (lambda t: np.log(1 - np.exp(t))),\n",
      "<ipython-input-334-49b39c550010>:22: RuntimeWarning: invalid value encountered in log\n",
      "  (lambda t: np.log(1 - np.exp(t))),\n"
     ]
    },
    {
     "name": "stdout",
     "output_type": "stream",
     "text": [
      "success:  True\n",
      "ln L:  [-82.23]\n",
      "AIC_c:  184.82\n",
      "thetas:  [0.03, 135.37, -0.03]\n",
      "\n",
      "success:  True\n",
      "ln L:  [-83.44]\n",
      "AIC_c:  187.24\n",
      "thetas:  [0.58, -111.52, 0.01]\n",
      "\n"
     ]
    },
    {
     "name": "stderr",
     "output_type": "stream",
     "text": [
      "<ipython-input-334-49b39c550010>:24: RuntimeWarning: overflow encountered in exp\n",
      "  (lambda t: -np.log(1 + np.exp(t))),\n",
      "<ipython-input-337-fedfc962834c>:26: RuntimeWarning: invalid value encountered in double_scalars\n",
      "  result += (float(self.y[i]) - 1) * log_one_minus_lambdas_2[self.lambda_index](dot_prod) + log_lambda_value\n",
      "<ipython-input-334-49b39c550010>:4: RuntimeWarning: overflow encountered in exp\n",
      "  (lambda t: 1 / (1 + np.exp(-t))),\n",
      "<ipython-input-334-49b39c550010>:14: RuntimeWarning: overflow encountered in exp\n",
      "  (lambda t: -np.log(1 + np.exp(-t))),\n",
      "C:\\ProgramData\\Anaconda3\\lib\\site-packages\\scipy\\optimize\\optimize.py:697: RuntimeWarning: invalid value encountered in double_scalars\n",
      "  df = (f(*((xk + d,) + args)) - f0) / d[k]\n"
     ]
    },
    {
     "name": "stdout",
     "output_type": "stream",
     "text": [
      "lambda_index =  2\n",
      "lambda_index =  2\n",
      "lambda_index =  2\n",
      "success:  True\n",
      "ln L:  [-83.64]\n",
      "AIC_c:  187.64\n",
      "thetas:  [0.80, 332.44, -0.04]\n",
      "\n",
      "success:  True\n",
      "ln L:  [-81.17]\n",
      "AIC_c:  182.7\n",
      "thetas:  [-0.39, 279.17, -0.03]\n",
      "\n"
     ]
    },
    {
     "name": "stderr",
     "output_type": "stream",
     "text": [
      "<ipython-input-334-49b39c550010>:27: RuntimeWarning: invalid value encountered in log\n",
      "  (lambda t: np.log(-t * (np.pi / 2.0 - np.arctan(-t)))),\n"
     ]
    },
    {
     "name": "stdout",
     "output_type": "stream",
     "text": [
      "success:  True\n",
      "ln L:  [-148.78]\n",
      "AIC_c:  317.92\n",
      "thetas:  [-7.80, 789.67, 0.09]\n",
      "\n",
      "thetas_for_tex:  [0.03, 135.37, -0.03] & [0.58, -111.52, 0.01] & [0.80, 332.44, -0.04] & [-0.39, 279.17, -0.03] & [-7.80, 789.67, 0.09] \n",
      "AIC_c_for_tex:   184.82 & 187.24 & 187.64 & 182.7 & 317.92 \n",
      "thetas_for_tex:  [ 3.06575544e-02  1.35370529e+02 -2.97868182e-02] & [ 5.75421028e-01 -1.11515447e+02  1.26954188e-02] & [ 8.00846918e-01  3.32438805e+02 -4.01986871e-02] & [-3.94577290e-01  2.79169171e+02 -3.10257372e-02] & [-7.79804604e+00  7.89665251e+02  8.78491573e-02] \n",
      "########################################################\n",
      "['intercept', 'Кривизна', 'Профиль пути', 'n_feature_3']\n",
      "n =  37\n"
     ]
    },
    {
     "name": "stderr",
     "output_type": "stream",
     "text": [
      "<ipython-input-334-49b39c550010>:2: RuntimeWarning: overflow encountered in exp\n",
      "  (lambda t: np.exp(t)),\n",
      "<ipython-input-334-49b39c550010>:22: RuntimeWarning: overflow encountered in exp\n",
      "  (lambda t: np.log(1 - np.exp(t))),\n",
      "<ipython-input-334-49b39c550010>:22: RuntimeWarning: invalid value encountered in log\n",
      "  (lambda t: np.log(1 - np.exp(t))),\n"
     ]
    },
    {
     "name": "stdout",
     "output_type": "stream",
     "text": [
      "success:  True\n",
      "ln L:  [-81.03]\n",
      "AIC_c:  183.2\n",
      "thetas:  [-1.60, 509.87, -47.91, -0.01]\n",
      "\n",
      "success:  True\n",
      "ln L:  [-80.45]\n",
      "AIC_c:  182.04\n",
      "thetas:  [0.97, -838.86, -93.59, 0.00]\n",
      "\n"
     ]
    },
    {
     "name": "stderr",
     "output_type": "stream",
     "text": [
      "<ipython-input-334-49b39c550010>:24: RuntimeWarning: overflow encountered in exp\n",
      "  (lambda t: -np.log(1 + np.exp(t))),\n",
      "<ipython-input-337-fedfc962834c>:26: RuntimeWarning: invalid value encountered in double_scalars\n",
      "  result += (float(self.y[i]) - 1) * log_one_minus_lambdas_2[self.lambda_index](dot_prod) + log_lambda_value\n",
      "<ipython-input-334-49b39c550010>:4: RuntimeWarning: overflow encountered in exp\n",
      "  (lambda t: 1 / (1 + np.exp(-t))),\n",
      "<ipython-input-334-49b39c550010>:14: RuntimeWarning: overflow encountered in exp\n",
      "  (lambda t: -np.log(1 + np.exp(-t))),\n",
      "C:\\ProgramData\\Anaconda3\\lib\\site-packages\\scipy\\optimize\\optimize.py:697: RuntimeWarning: invalid value encountered in double_scalars\n",
      "  df = (f(*((xk + d,) + args)) - f0) / d[k]\n"
     ]
    },
    {
     "name": "stdout",
     "output_type": "stream",
     "text": [
      "lambda_index =  2\n",
      "success:  True\n",
      "ln L:  [-77.52]\n",
      "AIC_c:  176.18\n",
      "thetas:  [0.39, 439.49, -89.75, -0.03]\n",
      "\n",
      "success:  True\n",
      "ln L:  [-77.83]\n",
      "AIC_c:  176.8\n",
      "thetas:  [1.46, 193.16, -225.72, -0.07]\n",
      "\n"
     ]
    },
    {
     "name": "stderr",
     "output_type": "stream",
     "text": [
      "<ipython-input-334-49b39c550010>:27: RuntimeWarning: invalid value encountered in log\n",
      "  (lambda t: np.log(-t * (np.pi / 2.0 - np.arctan(-t)))),\n"
     ]
    },
    {
     "name": "stdout",
     "output_type": "stream",
     "text": [
      "lambda_index =  4\n",
      "lambda_index =  4\n",
      "success:  True\n",
      "ln L:  [-105.21]\n",
      "AIC_c:  231.56\n",
      "thetas:  [-4.46, 263.73, -36.07, 0.05]\n",
      "\n",
      "thetas_for_tex:  [-1.60, 509.87, -47.91, -0.01] & [0.97, -838.86, -93.59, 0.00] & [0.39, 439.49, -89.75, -0.03] & [1.46, 193.16, -225.72, -0.07] & [-4.46, 263.73, -36.07, 0.05] \n",
      "AIC_c_for_tex:   183.2 & 182.04 & 176.18 & 176.8 & 231.56 \n",
      "thetas_for_tex:  [-1.60279348e+00  5.09872136e+02 -4.79100336e+01 -8.33928657e-03] & [ 9.67697980e-01 -8.38863521e+02 -9.35917296e+01  3.86486466e-03] & [ 3.86110067e-01  4.39487444e+02 -8.97548720e+01 -3.40685508e-02] & [ 1.45955748e+00  1.93161765e+02 -2.25723283e+02 -6.81961626e-02] & [-4.45762667e+00  2.63733975e+02 -3.60664438e+01  5.04298250e-02] \n",
      "########################################################\n",
      "['intercept', 'Кривизна', 'Профиль пути', 'n_feature_3', 'n_feature_2']\n",
      "n =  35\n"
     ]
    },
    {
     "name": "stderr",
     "output_type": "stream",
     "text": [
      "<ipython-input-334-49b39c550010>:2: RuntimeWarning: overflow encountered in exp\n",
      "  (lambda t: np.exp(t)),\n",
      "<ipython-input-334-49b39c550010>:22: RuntimeWarning: overflow encountered in exp\n",
      "  (lambda t: np.log(1 - np.exp(t))),\n",
      "<ipython-input-334-49b39c550010>:22: RuntimeWarning: invalid value encountered in log\n",
      "  (lambda t: np.log(1 - np.exp(t))),\n"
     ]
    },
    {
     "name": "stdout",
     "output_type": "stream",
     "text": [
      "success:  True\n",
      "ln L:  [-75.36]\n",
      "AIC_c:  172.26\n",
      "thetas:  [-3.37, 295.38, -57.78, 0.02, 1.87]\n",
      "\n",
      "success:  True\n",
      "ln L:  [-82.53]\n",
      "AIC_c:  186.6\n",
      "thetas:  [-0.26, 28.20, -52.39, -0.03, 1.69]\n",
      "\n"
     ]
    },
    {
     "name": "stderr",
     "output_type": "stream",
     "text": [
      "<ipython-input-334-49b39c550010>:24: RuntimeWarning: overflow encountered in exp\n",
      "  (lambda t: -np.log(1 + np.exp(t))),\n",
      "<ipython-input-337-fedfc962834c>:26: RuntimeWarning: invalid value encountered in double_scalars\n",
      "  result += (float(self.y[i]) - 1) * log_one_minus_lambdas_2[self.lambda_index](dot_prod) + log_lambda_value\n",
      "<ipython-input-334-49b39c550010>:4: RuntimeWarning: overflow encountered in exp\n",
      "  (lambda t: 1 / (1 + np.exp(-t))),\n",
      "<ipython-input-334-49b39c550010>:14: RuntimeWarning: overflow encountered in exp\n",
      "  (lambda t: -np.log(1 + np.exp(-t))),\n",
      "C:\\ProgramData\\Anaconda3\\lib\\site-packages\\scipy\\optimize\\optimize.py:697: RuntimeWarning: invalid value encountered in double_scalars\n",
      "  df = (f(*((xk + d,) + args)) - f0) / d[k]\n"
     ]
    },
    {
     "name": "stdout",
     "output_type": "stream",
     "text": [
      "lambda_index =  2\n",
      "lambda_index =  2\n",
      "success:  True\n",
      "ln L:  [-72.98]\n",
      "AIC_c:  167.5\n",
      "thetas:  [-1.45, 455.99, -52.52, -0.01, 2.32]\n",
      "\n",
      "success:  True\n",
      "ln L:  [-70.86]\n",
      "AIC_c:  163.26\n",
      "thetas:  [-0.68, 89.68, -113.06, -0.05, 3.31]\n",
      "\n"
     ]
    },
    {
     "name": "stderr",
     "output_type": "stream",
     "text": [
      "<ipython-input-334-49b39c550010>:27: RuntimeWarning: invalid value encountered in log\n",
      "  (lambda t: np.log(-t * (np.pi / 2.0 - np.arctan(-t)))),\n"
     ]
    },
    {
     "name": "stdout",
     "output_type": "stream",
     "text": [
      "lambda_index =  4\n",
      "success:  True\n",
      "ln L:  [-74.25]\n",
      "AIC_c:  170.04\n",
      "thetas:  [-1.27, 41.87, -3.68, -0.00, 1.24]\n",
      "\n",
      "thetas_for_tex:  [-3.37, 295.38, -57.78, 0.02, 1.87] & [-0.26, 28.20, -52.39, -0.03, 1.69] & [-1.45, 455.99, -52.52, -0.01, 2.32] & [-0.68, 89.68, -113.06, -0.05, 3.31] & [-1.27, 41.87, -3.68, -0.00, 1.24] \n",
      "AIC_c_for_tex:   172.26 & 186.6 & 167.5 & 163.26 & 170.04 \n",
      "thetas_for_tex:  [-3.37056523e+00  2.95378115e+02 -5.77803968e+01  1.95712034e-02\n",
      "  1.86787405e+00] & [-2.55634748e-01  2.81968288e+01 -5.23946846e+01 -2.67009173e-02\n",
      "  1.68641767e+00] & [-1.45137484e+00  4.55985870e+02 -5.25166061e+01 -1.49145955e-02\n",
      "  2.32160613e+00] & [-6.76501388e-01  8.96848456e+01 -1.13059841e+02 -4.55077481e-02\n",
      "  3.30807171e+00] & [-1.26551996e+00  4.18733701e+01 -3.68461497e+00 -3.22871594e-03\n",
      "  1.23574473e+00] \n",
      "########################################################\n",
      "['intercept', 'Профиль пути', 'n_feature_3', 'n_feature_2']\n",
      "n =  37\n"
     ]
    },
    {
     "name": "stderr",
     "output_type": "stream",
     "text": [
      "<ipython-input-334-49b39c550010>:2: RuntimeWarning: overflow encountered in exp\n",
      "  (lambda t: np.exp(t)),\n",
      "<ipython-input-334-49b39c550010>:22: RuntimeWarning: overflow encountered in exp\n",
      "  (lambda t: np.log(1 - np.exp(t))),\n",
      "<ipython-input-334-49b39c550010>:22: RuntimeWarning: invalid value encountered in log\n",
      "  (lambda t: np.log(1 - np.exp(t))),\n"
     ]
    },
    {
     "name": "stdout",
     "output_type": "stream",
     "text": [
      "lambda_index =  0\n",
      "success:  True\n",
      "ln L:  [-282.89]\n",
      "AIC_c:  586.92\n",
      "thetas:  [3.97, -388.56, -0.13, -13.95]\n",
      "\n",
      "success:  True\n",
      "ln L:  [-84.25]\n",
      "AIC_c:  189.64\n",
      "thetas:  [0.18, 49.54, 0.03, -1.64]\n",
      "\n"
     ]
    },
    {
     "name": "stderr",
     "output_type": "stream",
     "text": [
      "<ipython-input-334-49b39c550010>:24: RuntimeWarning: overflow encountered in exp\n",
      "  (lambda t: -np.log(1 + np.exp(t))),\n",
      "<ipython-input-337-fedfc962834c>:26: RuntimeWarning: invalid value encountered in double_scalars\n",
      "  result += (float(self.y[i]) - 1) * log_one_minus_lambdas_2[self.lambda_index](dot_prod) + log_lambda_value\n",
      "<ipython-input-334-49b39c550010>:4: RuntimeWarning: overflow encountered in exp\n",
      "  (lambda t: 1 / (1 + np.exp(-t))),\n",
      "<ipython-input-334-49b39c550010>:14: RuntimeWarning: overflow encountered in exp\n",
      "  (lambda t: -np.log(1 + np.exp(-t))),\n",
      "C:\\ProgramData\\Anaconda3\\lib\\site-packages\\scipy\\optimize\\optimize.py:697: RuntimeWarning: invalid value encountered in double_scalars\n",
      "  df = (f(*((xk + d,) + args)) - f0) / d[k]\n"
     ]
    },
    {
     "name": "stdout",
     "output_type": "stream",
     "text": [
      "lambda_index =  2\n",
      "lambda_index =  2\n",
      "success:  True\n",
      "ln L:  [-77.49]\n",
      "AIC_c:  176.12\n",
      "thetas:  [-0.59, -15.12, -0.02, 1.88]\n",
      "\n",
      "success:  True\n",
      "ln L:  [-76.32]\n",
      "AIC_c:  173.78\n",
      "thetas:  [-1.73, 36.23, 0.08, -1.76]\n",
      "\n"
     ]
    },
    {
     "name": "stderr",
     "output_type": "stream",
     "text": [
      "<ipython-input-334-49b39c550010>:27: RuntimeWarning: invalid value encountered in log\n",
      "  (lambda t: np.log(-t * (np.pi / 2.0 - np.arctan(-t)))),\n"
     ]
    },
    {
     "name": "stdout",
     "output_type": "stream",
     "text": [
      "success:  True\n",
      "ln L:  [-78.25]\n",
      "AIC_c:  177.64\n",
      "thetas:  [-0.78, 2.12, -0.01, 0.85]\n",
      "\n",
      "thetas_for_tex:  [3.97, -388.56, -0.13, -13.95] & [0.18, 49.54, 0.03, -1.64] & [-0.59, -15.12, -0.02, 1.88] & [-1.73, 36.23, 0.08, -1.76] & [-0.78, 2.12, -0.01, 0.85] \n",
      "AIC_c_for_tex:   586.92 & 189.64 & 176.12 & 173.78 & 177.64 \n",
      "thetas_for_tex:  [ 3.96909968e+00 -3.88558572e+02 -1.25722501e-01 -1.39467001e+01] & [ 1.81064645e-01  4.95397475e+01  2.73994622e-02 -1.63731255e+00] & [ -0.58782113 -15.12305804  -0.02304889   1.88216471] & [-1.73499905 36.22822185  0.08070946 -1.75845933] & [-0.78365416  2.12039468 -0.00883254  0.8487121 ] \n",
      "########################################################\n"
     ]
    }
   ],
   "source": [
    "gRegressor = GeometryRegression(df, features, target)\n",
    "gRegressor.fit_all()"
   ]
  },
  {
   "cell_type": "code",
   "execution_count": null,
   "id": "6376dcfb",
   "metadata": {},
   "outputs": [],
   "source": []
  }
 ],
 "metadata": {
  "kernelspec": {
   "display_name": "Python 3",
   "language": "python",
   "name": "python3"
  },
  "language_info": {
   "codemirror_mode": {
    "name": "ipython",
    "version": 3
   },
   "file_extension": ".py",
   "mimetype": "text/x-python",
   "name": "python",
   "nbconvert_exporter": "python",
   "pygments_lexer": "ipython3",
   "version": "3.8.8"
  },
  "latex_envs": {
   "LaTeX_envs_menu_present": true,
   "autoclose": false,
   "autocomplete": true,
   "bibliofile": "biblio.bib",
   "cite_by": "apalike",
   "current_citInitial": 1,
   "eqLabelWithNumbers": true,
   "eqNumInitial": 1,
   "hotkeys": {
    "equation": "Ctrl-E",
    "itemize": "Ctrl-I"
   },
   "labels_anchors": false,
   "latex_user_defs": false,
   "report_style_numbering": false,
   "user_envs_cfg": false
  },
  "toc": {
   "base_numbering": 1,
   "nav_menu": {},
   "number_sections": true,
   "sideBar": true,
   "skip_h1_title": false,
   "title_cell": "Table of Contents",
   "title_sidebar": "Contents",
   "toc_cell": false,
   "toc_position": {},
   "toc_section_display": true,
   "toc_window_display": false
  }
 },
 "nbformat": 4,
 "nbformat_minor": 5
}
