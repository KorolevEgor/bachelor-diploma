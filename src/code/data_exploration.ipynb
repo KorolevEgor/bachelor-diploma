{
 "cells": [
  {
   "cell_type": "code",
   "execution_count": 1,
   "id": "9c51d0f2",
   "metadata": {},
   "outputs": [],
   "source": [
    "### import pandas as pd\n",
    "import numpy as np\n",
    "import pandas as pd\n",
    "import math\n",
    "\n",
    "import matplotlib.pyplot as plt\n",
    "import seaborn as sns\n",
    "%matplotlib inline"
   ]
  },
  {
   "cell_type": "code",
   "execution_count": 6,
   "id": "4a44c9cb",
   "metadata": {},
   "outputs": [],
   "source": [
    "path = \"../data/data.xlsx\"\n",
    "df = pd.read_excel(path)\n",
    "df.Дата = df.Дата.astype('datetime64[ns]')"
   ]
  },
  {
   "cell_type": "markdown",
   "id": "a4f5852c",
   "metadata": {},
   "source": [
    "Названия столбцов:"
   ]
  },
  {
   "cell_type": "code",
   "execution_count": 7,
   "id": "9815677e",
   "metadata": {
    "scrolled": false
   },
   "outputs": [
    {
     "data": {
      "text/plain": [
       "Index(['Дата', 'Кол-во вагонов', 'Макс. число вагонов в сходе',\n",
       "       'Общее кол-во вагонов', 'Кол-во сшедших вагонов', 'Скорость', 'Вес',\n",
       "       'Загрузка', 'Стрелочный перевод', 'Кривизна', 'Профиль пути',\n",
       "       'Режим движения'],\n",
       "      dtype='object')"
      ]
     },
     "execution_count": 7,
     "metadata": {},
     "output_type": "execute_result"
    }
   ],
   "source": [
    "df.columns"
   ]
  },
  {
   "cell_type": "code",
   "execution_count": 8,
   "id": "4a1c1872",
   "metadata": {},
   "outputs": [
    {
     "name": "stdout",
     "output_type": "stream",
     "text": [
      "shape of data frame: (56, 12)\n"
     ]
    }
   ],
   "source": [
    "print(\"shape of data frame:\", df.shape)"
   ]
  },
  {
   "cell_type": "code",
   "execution_count": 9,
   "id": "fdfa8b7b",
   "metadata": {
    "scrolled": false
   },
   "outputs": [
    {
     "data": {
      "text/html": [
       "<div>\n",
       "<style scoped>\n",
       "    .dataframe tbody tr th:only-of-type {\n",
       "        vertical-align: middle;\n",
       "    }\n",
       "\n",
       "    .dataframe tbody tr th {\n",
       "        vertical-align: top;\n",
       "    }\n",
       "\n",
       "    .dataframe thead th {\n",
       "        text-align: right;\n",
       "    }\n",
       "</style>\n",
       "<table border=\"1\" class=\"dataframe\">\n",
       "  <thead>\n",
       "    <tr style=\"text-align: right;\">\n",
       "      <th></th>\n",
       "      <th>Дата</th>\n",
       "      <th>Кол-во вагонов</th>\n",
       "      <th>Макс. число вагонов в сходе</th>\n",
       "      <th>Общее кол-во вагонов</th>\n",
       "      <th>Кол-во сшедших вагонов</th>\n",
       "      <th>Скорость</th>\n",
       "      <th>Вес</th>\n",
       "      <th>Загрузка</th>\n",
       "      <th>Стрелочный перевод</th>\n",
       "      <th>Кривизна</th>\n",
       "      <th>Профиль пути</th>\n",
       "      <th>Режим движения</th>\n",
       "    </tr>\n",
       "  </thead>\n",
       "  <tbody>\n",
       "    <tr>\n",
       "      <th>0</th>\n",
       "      <td>2013-01-08</td>\n",
       "      <td>56.0</td>\n",
       "      <td>19.0</td>\n",
       "      <td>58.0</td>\n",
       "      <td>1</td>\n",
       "      <td>57.0</td>\n",
       "      <td>3402.0</td>\n",
       "      <td>0.547101</td>\n",
       "      <td>0</td>\n",
       "      <td>0.000000</td>\n",
       "      <td>0.0007</td>\n",
       "      <td>NaN</td>\n",
       "    </tr>\n",
       "    <tr>\n",
       "      <th>1</th>\n",
       "      <td>2013-01-09</td>\n",
       "      <td>60.0</td>\n",
       "      <td>25.0</td>\n",
       "      <td>62.0</td>\n",
       "      <td>1</td>\n",
       "      <td>72.0</td>\n",
       "      <td>4082.0</td>\n",
       "      <td>0.652657</td>\n",
       "      <td>0</td>\n",
       "      <td>0.000000</td>\n",
       "      <td>0.0009</td>\n",
       "      <td>NaN</td>\n",
       "    </tr>\n",
       "    <tr>\n",
       "      <th>2</th>\n",
       "      <td>2013-01-10</td>\n",
       "      <td>60.0</td>\n",
       "      <td>4.0</td>\n",
       "      <td>64.0</td>\n",
       "      <td>1</td>\n",
       "      <td>15.0</td>\n",
       "      <td>4420.0</td>\n",
       "      <td>0.734300</td>\n",
       "      <td>0</td>\n",
       "      <td>0.001639</td>\n",
       "      <td>NaN</td>\n",
       "      <td>3.0</td>\n",
       "    </tr>\n",
       "    <tr>\n",
       "      <th>3</th>\n",
       "      <td>2013-01-12</td>\n",
       "      <td>66.0</td>\n",
       "      <td>63.0</td>\n",
       "      <td>68.0</td>\n",
       "      <td>21</td>\n",
       "      <td>67.0</td>\n",
       "      <td>5699.0</td>\n",
       "      <td>0.918094</td>\n",
       "      <td>0</td>\n",
       "      <td>0.002326</td>\n",
       "      <td>0.0060</td>\n",
       "      <td>NaN</td>\n",
       "    </tr>\n",
       "    <tr>\n",
       "      <th>4</th>\n",
       "      <td>2013-01-19</td>\n",
       "      <td>67.0</td>\n",
       "      <td>34.0</td>\n",
       "      <td>69.0</td>\n",
       "      <td>1</td>\n",
       "      <td>69.0</td>\n",
       "      <td>5854.0</td>\n",
       "      <td>0.932944</td>\n",
       "      <td>0</td>\n",
       "      <td>0.000000</td>\n",
       "      <td>0.0006</td>\n",
       "      <td>2.0</td>\n",
       "    </tr>\n",
       "  </tbody>\n",
       "</table>\n",
       "</div>"
      ],
      "text/plain": [
       "        Дата  Кол-во вагонов  Макс. число вагонов в сходе  \\\n",
       "0 2013-01-08            56.0                         19.0   \n",
       "1 2013-01-09            60.0                         25.0   \n",
       "2 2013-01-10            60.0                          4.0   \n",
       "3 2013-01-12            66.0                         63.0   \n",
       "4 2013-01-19            67.0                         34.0   \n",
       "\n",
       "   Общее кол-во вагонов  Кол-во сшедших вагонов  Скорость     Вес  Загрузка  \\\n",
       "0                  58.0                       1      57.0  3402.0  0.547101   \n",
       "1                  62.0                       1      72.0  4082.0  0.652657   \n",
       "2                  64.0                       1      15.0  4420.0  0.734300   \n",
       "3                  68.0                      21      67.0  5699.0  0.918094   \n",
       "4                  69.0                       1      69.0  5854.0  0.932944   \n",
       "\n",
       "   Стрелочный перевод  Кривизна  Профиль пути  Режим движения  \n",
       "0                   0  0.000000        0.0007             NaN  \n",
       "1                   0  0.000000        0.0009             NaN  \n",
       "2                   0  0.001639           NaN             3.0  \n",
       "3                   0  0.002326        0.0060             NaN  \n",
       "4                   0  0.000000        0.0006             2.0  "
      ]
     },
     "execution_count": 9,
     "metadata": {},
     "output_type": "execute_result"
    }
   ],
   "source": [
    "df.head()"
   ]
  },
  {
   "cell_type": "code",
   "execution_count": 10,
   "id": "189f54b6",
   "metadata": {
    "scrolled": false
   },
   "outputs": [
    {
     "name": "stdout",
     "output_type": "stream",
     "text": [
      "<class 'pandas.core.frame.DataFrame'>\n",
      "RangeIndex: 56 entries, 0 to 55\n",
      "Data columns (total 12 columns):\n",
      " #   Column                       Non-Null Count  Dtype         \n",
      "---  ------                       --------------  -----         \n",
      " 0   Дата                         56 non-null     datetime64[ns]\n",
      " 1   Кол-во вагонов               54 non-null     float64       \n",
      " 2   Макс. число вагонов в сходе  51 non-null     float64       \n",
      " 3   Общее кол-во вагонов         54 non-null     float64       \n",
      " 4   Кол-во сшедших вагонов       56 non-null     int64         \n",
      " 5   Скорость                     53 non-null     float64       \n",
      " 6   Вес                          54 non-null     float64       \n",
      " 7   Загрузка                     54 non-null     float64       \n",
      " 8   Стрелочный перевод           56 non-null     int64         \n",
      " 9   Кривизна                     46 non-null     float64       \n",
      " 10  Профиль пути                 44 non-null     float64       \n",
      " 11  Режим движения               33 non-null     float64       \n",
      "dtypes: datetime64[ns](1), float64(9), int64(2)\n",
      "memory usage: 5.4 KB\n",
      "None\n"
     ]
    }
   ],
   "source": [
    "print(df.info())"
   ]
  },
  {
   "cell_type": "code",
   "execution_count": 11,
   "id": "323d0407",
   "metadata": {
    "scrolled": true
   },
   "outputs": [
    {
     "data": {
      "text/html": [
       "<div>\n",
       "<style scoped>\n",
       "    .dataframe tbody tr th:only-of-type {\n",
       "        vertical-align: middle;\n",
       "    }\n",
       "\n",
       "    .dataframe tbody tr th {\n",
       "        vertical-align: top;\n",
       "    }\n",
       "\n",
       "    .dataframe thead th {\n",
       "        text-align: right;\n",
       "    }\n",
       "</style>\n",
       "<table border=\"1\" class=\"dataframe\">\n",
       "  <thead>\n",
       "    <tr style=\"text-align: right;\">\n",
       "      <th></th>\n",
       "      <th>Кол-во вагонов</th>\n",
       "      <th>Макс. число вагонов в сходе</th>\n",
       "      <th>Общее кол-во вагонов</th>\n",
       "      <th>Кол-во сшедших вагонов</th>\n",
       "      <th>Скорость</th>\n",
       "      <th>Вес</th>\n",
       "      <th>Загрузка</th>\n",
       "      <th>Стрелочный перевод</th>\n",
       "      <th>Кривизна</th>\n",
       "      <th>Профиль пути</th>\n",
       "      <th>Режим движения</th>\n",
       "    </tr>\n",
       "  </thead>\n",
       "  <tbody>\n",
       "    <tr>\n",
       "      <th>count</th>\n",
       "      <td>54.000000</td>\n",
       "      <td>51.000000</td>\n",
       "      <td>54.000000</td>\n",
       "      <td>56.000000</td>\n",
       "      <td>53.000000</td>\n",
       "      <td>54.000000</td>\n",
       "      <td>54.000000</td>\n",
       "      <td>56.000000</td>\n",
       "      <td>46.000000</td>\n",
       "      <td>44.000000</td>\n",
       "      <td>33.000000</td>\n",
       "    </tr>\n",
       "    <tr>\n",
       "      <th>mean</th>\n",
       "      <td>63.870370</td>\n",
       "      <td>37.137255</td>\n",
       "      <td>66.407407</td>\n",
       "      <td>3.875000</td>\n",
       "      <td>49.150943</td>\n",
       "      <td>5126.629630</td>\n",
       "      <td>0.817678</td>\n",
       "      <td>0.107143</td>\n",
       "      <td>0.000806</td>\n",
       "      <td>-0.000384</td>\n",
       "      <td>1.666667</td>\n",
       "    </tr>\n",
       "    <tr>\n",
       "      <th>std</th>\n",
       "      <td>9.790342</td>\n",
       "      <td>21.543463</td>\n",
       "      <td>10.053665</td>\n",
       "      <td>6.081455</td>\n",
       "      <td>18.450971</td>\n",
       "      <td>1438.743887</td>\n",
       "      <td>0.243936</td>\n",
       "      <td>0.312094</td>\n",
       "      <td>0.001171</td>\n",
       "      <td>0.005689</td>\n",
       "      <td>0.777282</td>\n",
       "    </tr>\n",
       "    <tr>\n",
       "      <th>min</th>\n",
       "      <td>24.000000</td>\n",
       "      <td>2.000000</td>\n",
       "      <td>26.000000</td>\n",
       "      <td>1.000000</td>\n",
       "      <td>9.000000</td>\n",
       "      <td>998.000000</td>\n",
       "      <td>0.179710</td>\n",
       "      <td>0.000000</td>\n",
       "      <td>0.000000</td>\n",
       "      <td>-0.011500</td>\n",
       "      <td>1.000000</td>\n",
       "    </tr>\n",
       "    <tr>\n",
       "      <th>25%</th>\n",
       "      <td>60.000000</td>\n",
       "      <td>17.500000</td>\n",
       "      <td>62.500000</td>\n",
       "      <td>1.000000</td>\n",
       "      <td>35.000000</td>\n",
       "      <td>4155.500000</td>\n",
       "      <td>0.690451</td>\n",
       "      <td>0.000000</td>\n",
       "      <td>0.000000</td>\n",
       "      <td>-0.004750</td>\n",
       "      <td>1.000000</td>\n",
       "    </tr>\n",
       "    <tr>\n",
       "      <th>50%</th>\n",
       "      <td>66.000000</td>\n",
       "      <td>43.000000</td>\n",
       "      <td>68.000000</td>\n",
       "      <td>1.000000</td>\n",
       "      <td>51.000000</td>\n",
       "      <td>5722.000000</td>\n",
       "      <td>0.925519</td>\n",
       "      <td>0.000000</td>\n",
       "      <td>0.000000</td>\n",
       "      <td>0.000000</td>\n",
       "      <td>1.000000</td>\n",
       "    </tr>\n",
       "    <tr>\n",
       "      <th>75%</th>\n",
       "      <td>68.000000</td>\n",
       "      <td>56.500000</td>\n",
       "      <td>71.750000</td>\n",
       "      <td>2.250000</td>\n",
       "      <td>64.000000</td>\n",
       "      <td>6010.250000</td>\n",
       "      <td>0.995586</td>\n",
       "      <td>0.000000</td>\n",
       "      <td>0.001479</td>\n",
       "      <td>0.001875</td>\n",
       "      <td>2.000000</td>\n",
       "    </tr>\n",
       "    <tr>\n",
       "      <th>max</th>\n",
       "      <td>96.000000</td>\n",
       "      <td>72.000000</td>\n",
       "      <td>100.000000</td>\n",
       "      <td>26.000000</td>\n",
       "      <td>78.000000</td>\n",
       "      <td>8806.000000</td>\n",
       "      <td>1.076087</td>\n",
       "      <td>1.000000</td>\n",
       "      <td>0.005000</td>\n",
       "      <td>0.010900</td>\n",
       "      <td>3.000000</td>\n",
       "    </tr>\n",
       "  </tbody>\n",
       "</table>\n",
       "</div>"
      ],
      "text/plain": [
       "       Кол-во вагонов  Макс. число вагонов в сходе  Общее кол-во вагонов  \\\n",
       "count       54.000000                    51.000000             54.000000   \n",
       "mean        63.870370                    37.137255             66.407407   \n",
       "std          9.790342                    21.543463             10.053665   \n",
       "min         24.000000                     2.000000             26.000000   \n",
       "25%         60.000000                    17.500000             62.500000   \n",
       "50%         66.000000                    43.000000             68.000000   \n",
       "75%         68.000000                    56.500000             71.750000   \n",
       "max         96.000000                    72.000000            100.000000   \n",
       "\n",
       "       Кол-во сшедших вагонов   Скорость          Вес   Загрузка  \\\n",
       "count               56.000000  53.000000    54.000000  54.000000   \n",
       "mean                 3.875000  49.150943  5126.629630   0.817678   \n",
       "std                  6.081455  18.450971  1438.743887   0.243936   \n",
       "min                  1.000000   9.000000   998.000000   0.179710   \n",
       "25%                  1.000000  35.000000  4155.500000   0.690451   \n",
       "50%                  1.000000  51.000000  5722.000000   0.925519   \n",
       "75%                  2.250000  64.000000  6010.250000   0.995586   \n",
       "max                 26.000000  78.000000  8806.000000   1.076087   \n",
       "\n",
       "       Стрелочный перевод   Кривизна  Профиль пути  Режим движения  \n",
       "count           56.000000  46.000000     44.000000       33.000000  \n",
       "mean             0.107143   0.000806     -0.000384        1.666667  \n",
       "std              0.312094   0.001171      0.005689        0.777282  \n",
       "min              0.000000   0.000000     -0.011500        1.000000  \n",
       "25%              0.000000   0.000000     -0.004750        1.000000  \n",
       "50%              0.000000   0.000000      0.000000        1.000000  \n",
       "75%              0.000000   0.001479      0.001875        2.000000  \n",
       "max              1.000000   0.005000      0.010900        3.000000  "
      ]
     },
     "execution_count": 11,
     "metadata": {},
     "output_type": "execute_result"
    }
   ],
   "source": [
    "df.describe()"
   ]
  },
  {
   "cell_type": "code",
   "execution_count": 12,
   "id": "c4b32e79",
   "metadata": {},
   "outputs": [
    {
     "data": {
      "image/png": "[encoded data removed]",
      "text/plain": [
       "<Figure size 864x648 with 2 Axes>"
      ]
     },
     "metadata": {
      "needs_background": "light"
     },
     "output_type": "display_data"
    }
   ],
   "source": [
    "corrmat = df.corr()\n",
    "f, ax = plt.subplots(figsize=(12, 9))\n",
    "sns.heatmap(corrmat, vmax=.8, square=True);"
   ]
  },
  {
   "cell_type": "code",
   "execution_count": null,
   "id": "54df9f02",
   "metadata": {
    "scrolled": false
   },
   "outputs": [],
   "source": [
    "sns.set()\n",
    "sns.pairplot(df[:], size = 2.5)\n",
    "plt.show();"
   ]
  },
  {
   "cell_type": "code",
   "execution_count": null,
   "id": "04641097",
   "metadata": {},
   "outputs": [],
   "source": [
    "data = \n",
    "y = df[\"Количество сшедших вагонов\"]\n",
    "X = df.drop([\"Количество сшедших вагонов\"], axis = 1)\n",
    "\n",
    "x = X[\"Загрузка\"]\n",
    "x = np.array(x)\n",
    "y = np.array(y)\n",
    "\n",
    "xy = 0\n",
    "x_sum = 0\n",
    "for i in range(len(y)):\n",
    "    if math.isnan(x[i]):\n",
    "        x[i] = 0.7\n",
    "    xy += x[i] * y[i]\n",
    "    x_sum += x[i]\n",
    "theta = (2*len(y) - xy) / x_sum\n",
    "print(theta)"
   ]
  }
 ],
 "metadata": {
  "kernelspec": {
   "display_name": "Python 3",
   "language": "python",
   "name": "python3"
  },
  "language_info": {
   "codemirror_mode": {
    "name": "ipython",
    "version": 3
   },
   "file_extension": ".py",
   "mimetype": "text/x-python",
   "name": "python",
   "nbconvert_exporter": "python",
   "pygments_lexer": "ipython3",
   "version": "3.8.8"
  },
  "latex_envs": {
   "LaTeX_envs_menu_present": true,
   "autoclose": false,
   "autocomplete": true,
   "bibliofile": "biblio.bib",
   "cite_by": "apalike",
   "current_citInitial": 1,
   "eqLabelWithNumbers": true,
   "eqNumInitial": 1,
   "hotkeys": {
    "equation": "Ctrl-E",
    "itemize": "Ctrl-I"
   },
   "labels_anchors": false,
   "latex_user_defs": false,
   "report_style_numbering": false,
   "user_envs_cfg": false
  },
  "toc": {
   "base_numbering": 1,
   "nav_menu": {},
   "number_sections": true,
   "sideBar": true,
   "skip_h1_title": false,
   "title_cell": "Table of Contents",
   "title_sidebar": "Contents",
   "toc_cell": false,
   "toc_position": {},
   "toc_section_display": true,
   "toc_window_display": false
  }
 },
 "nbformat": 4,
 "nbformat_minor": 5
}
